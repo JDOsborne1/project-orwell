{
 "cells": [
  {
   "cell_type": "code",
   "execution_count": 8,
   "metadata": {},
   "outputs": [],
   "source": [
    "###Workbook to play with implementations of machine learning entities\n",
    "import numpy as np\n",
    "class Perceptron:\n",
    "    def __init__(self,weights,bias):\n",
    "        '''\n",
    "        Weights is expected to be an array of real numbers representing the weights\n",
    "        Bias is expected to be a real number quantifying how easy it is to return 1\n",
    "        '''\n",
    "        self.weights = weights\n",
    "        self.bias = bias\n",
    "    def evaluate(self, inputs): \n",
    "        if sum(self.weights*inputs) + self.bias > 0:\n",
    "            return 1\n",
    "        else:\n",
    "            return 0\n",
    "    def train(self, inputs, output,l_rate):\n",
    "        '''\n",
    "        As above the inputs are an array of the real inputs\n",
    "        The output is the known output of that array of inputs\n",
    "        l_rate is the learning rate\n",
    "        '''\n",
    "        w_error =l_rate*( output - self.evaluate(inputs) )  \n",
    "        for i in range(len(inputs)):\n",
    "            self.weights[i] += w_error*inputs[i]\n",
    "    \n",
    "        "
   ]
  },
  {
   "cell_type": "code",
   "execution_count": 14,
   "metadata": {
    "collapsed": true
   },
   "outputs": [],
   "source": [
    "P1 = Perceptron(np.array([1.0,1.0,1.0]),-5)\n",
    "training_set = [\n",
    "        [0,[1,0,0]],\n",
    "        [0,[0,1,0]],\n",
    "        [0,[0,0,1]],\n",
    "        [1,[1,0,1]],\n",
    "        [0,[1,1,0]],   \n",
    "        [1,[0,1,1]],\n",
    "        [1,[1,1,1]]\n",
    "    ]\n",
    "#Training set has response variable, 'do I read' which is determined by the input variables 'am I bored','it is late' and 'there is books'"
   ]
  },
  {
   "cell_type": "code",
   "execution_count": 18,
   "metadata": {},
   "outputs": [],
   "source": [
    "for j in range(10):\n",
    "    for i in training_set:\n",
    "        P1.train(i[1],i[0],0.05)"
   ]
  },
  {
   "cell_type": "code",
   "execution_count": 19,
   "metadata": {},
   "outputs": [
    {
     "data": {
      "text/plain": [
       "array([ 2.15,  2.1 ,  2.95])"
      ]
     },
     "execution_count": 19,
     "metadata": {},
     "output_type": "execute_result"
    }
   ],
   "source": [
    "P1.weights"
   ]
  },
  {
   "cell_type": "code",
   "execution_count": 20,
   "metadata": {},
   "outputs": [
    {
     "name": "stdout",
     "output_type": "stream",
     "text": [
      "True\n",
      "True\n",
      "True\n",
      "True\n",
      "True\n",
      "True\n",
      "True\n"
     ]
    }
   ],
   "source": [
    "for i in training_set:\n",
    "    print(i[0] == P1.evaluate(i[1]))"
   ]
  },
  {
   "cell_type": "code",
   "execution_count": null,
   "metadata": {
    "collapsed": true
   },
   "outputs": [],
   "source": []
  }
 ],
 "metadata": {
  "anaconda-cloud": {},
  "kernelspec": {
   "display_name": "Python [conda root]",
   "language": "python",
   "name": "conda-root-py"
  },
  "language_info": {
   "codemirror_mode": {
    "name": "ipython",
    "version": 3
   },
   "file_extension": ".py",
   "mimetype": "text/x-python",
   "name": "python",
   "nbconvert_exporter": "python",
   "pygments_lexer": "ipython3",
   "version": "3.6.6"
  }
 },
 "nbformat": 4,
 "nbformat_minor": 1
}
