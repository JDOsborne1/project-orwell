{
 "cells": [
  {
   "cell_type": "code",
   "execution_count": null,
   "metadata": {
    "collapsed": true
   },
   "outputs": [],
   "source": [
    "##Outline\n",
    "#Game for indeterminate players\n",
    "#Self defined characters within rules\n",
    "#library of abilities and environments\n",
    "#calls for inputs from players\n",
    "#when the input is unrecognised it prompts for the necessary descriptions to include it in the defines\n",
    "#prompts rolls to decide probabilistic things, takes the roll as an input\n",
    "#make a function of global checks which can be periodically ran, which will take note of things like death conditions. \n"
   ]
  },
  {
   "cell_type": "code",
   "execution_count": 1,
   "metadata": {
    "collapsed": true
   },
   "outputs": [],
   "source": [
    "#The Get\n",
    "#key piece is prompting for necessary descrioptions\n",
    "#need a list type which can contain all the neccesary info\n",
    "#game has called for input from the user in type 'type', user has returned any answer\n",
    "\n",
    "def get(entry, category,library):\n",
    "    In = 0\n",
    "    for i in range(len(library)):\n",
    "            if library[i][1]=='{0}'.format(entry):      #looks for the searched for element in the specified library\n",
    "                Out = library[i]                   #sets the output to the searched for element if sucessful\n",
    "                In = 1         #keeps track of the success of the search\n",
    "    if In != 1:\n",
    "        typing = category\n",
    "        entryname = input(\"title your new entry: \") \n",
    "        newentry = [typing,entryname]\n",
    "        if category == 'place':\n",
    "            placedef(newentry)\n",
    "            check = 1\n",
    "        elif category == 'character':\n",
    "            character_creation(newentry)\n",
    "            check = 1\n",
    "        else:\n",
    "            pass\n",
    "        library.append(newentry)  #appends the newly titled entry to the userlibrary\n",
    "        Out = newentry #sets the output to be the last thing appended to the userlibrary\n",
    "    else:\n",
    "        pass\n",
    "    return Out"
   ]
  },
  {
   "cell_type": "code",
   "execution_count": null,
   "metadata": {
    "collapsed": true
   },
   "outputs": [],
   "source": [
    "userlibrary = []"
   ]
  },
  {
   "cell_type": "code",
   "execution_count": null,
   "metadata": {
    "collapsed": true
   },
   "outputs": [],
   "source": [
    "get('3',userlibrary)"
   ]
  },
  {
   "cell_type": "code",
   "execution_count": null,
   "metadata": {
    "collapsed": true
   },
   "outputs": [],
   "source": [
    "#character creation\n",
    "#style = ['character','Name','Title','Moniker','Race','Class Type','Strength','Intelligence','Agility','Dexterity','Wisdom','Madness','Luck','Fortitude','Wits','Character Description']\n",
    "attributes = ['Title','Moniker','Race','Class Type','Strength','Intelligence','Agility','Dexterity','Wisdom','Madness','Luck','Fortitude','Wits','Character Description']\n",
    "#moniker is the mid-name nickname, class type is say Brute, Sneak, Ranger , strength determines weight limits and power of physical blows\n",
    "#intelligence increases possible leaps of logic and complexity of techniques, agility is speed of movement, dexterity is hand control\n",
    "#wisdom is collected knowledge used in conversation and to identify, madness increases the chance that your character will automatically do something insane\n",
    "#luck is an automated save roll for all failures that arent cursed, and automatic check for any chance rewards, fortitude is your constitution,\n",
    "#Wits is your quickness of thought and observance, used for noticing or persuation checks.\n",
    "#description is obvious\n",
    "#other elements will come to include, Statuses, Equipment, Location\n",
    "\n",
    "\n",
    "def character_creation(Char):\n",
    "    #char expected to be ['character','name']\n",
    "    print('Creation of {0}'.format(char[1]))\n",
    "    creation_points = 100\n",
    "    track=0\n",
    "    for i in attributes:\n",
    "        define = input('{0}? '.format(i))\n",
    "        track +=1\n",
    "        if track > 3:\n",
    "            value = int(define)\n",
    "            if value > creation_points:\n",
    "                print(\"Too many points assigned, please start again\")\n",
    "                character_creation(Char)\n",
    "            else:\n",
    "                pass\n",
    "            creation_points -= value\n",
    "            print('Creation Points remaining',creation_points)\n",
    "        else:\n",
    "            pass\n",
    "        Char.append(define)\n",
    " \n",
    "        \n",
    "\n"
   ]
  },
  {
   "cell_type": "code",
   "execution_count": null,
   "metadata": {
    "collapsed": true
   },
   "outputs": [],
   "source": [
    "#player1 = []        \n",
    "#character_creation(player1)\n",
    "#player2 = []        \n",
    "#character_creation(player1)\n",
    "#player3 = []        \n",
    "#character_creation(player1)\n",
    "#player4 = []        \n",
    "#character_creation(player1)"
   ]
  },
  {
   "cell_type": "code",
   "execution_count": null,
   "metadata": {
    "collapsed": true
   },
   "outputs": [],
   "source": [
    "#building a room\n",
    "#room has dimensions, and record of portals to the north south east and west. dimensions are defined from the bottom left front corner\n",
    "#it is defined as being open or closed, ie a road or a cave\n",
    "roomtype = ['place','name',[x,y,z],'open/closed',northportal,southportal,eastportal,westportal]\n",
    "\n",
    "def placedef(room):\n",
    "    #room expected to be ['place','name']\n",
    "    room.append('null')#position\n",
    "    room.append(input('open or closed? ')) #open/closed\n",
    "    room.append(input('To the North? ')) #northportal\n",
    "    room.append(input('To the South? ')) #southportal\n",
    "    room.append(input('To the East? ')) #eastportal\n",
    "    room.append(input('To the West? ')) #westportal\n",
    "    \n"
   ]
  },
  {
   "cell_type": "code",
   "execution_count": 2,
   "metadata": {
    "collapsed": true
   },
   "outputs": [],
   "source": [
    "#moving between places\n",
    "def update(listo1, listo2):\n",
    "    #listo 1 becomes listo 2\n",
    "    for i in range(len(listo2)):\n",
    "        listo1[i]=listo2[i]\n",
    "\n",
    "def inon(val):\n",
    "    if val == 'open':\n",
    "        return 'on'\n",
    "    elif val == 'closed':\n",
    "        return 'in'\n",
    "    else:\n",
    "        return 'error'\n",
    "\n",
    "def scene(room):\n",
    "    print('you are {0} {1}'.format(inon(room[1:][2]),room[1:][0]))\n",
    "\n",
    "def changescene(room):\n",
    "    scene(room)\n",
    "    portals = ['none']\n",
    "    for i in room[-4:]:\n",
    "        if i != 'null':\n",
    "            portals.append(i)\n",
    "    print('you may travel to {0}'.format(portals))\n",
    "    a=0\n",
    "    while a not in portals:\n",
    "        a = input('where would you like to travel? (none to stay) ')\n",
    "    if a == 'none':\n",
    "        update(currentroom,room)\n",
    "    else:\n",
    "        update(currentroom,get(a,'place',userlibrary))\n",
    "\n",
    "def linkrooms(room1,room2):\n",
    "    for i in range(len(room1[-4:])):\n",
    "        if room1[-4:][i] == room2[1]:\n",
    "            #print('active')\n",
    "            if i == 0:\n",
    "                room2[-3+i:-2+i] = [room1[1]]\n",
    "                break\n",
    "            elif i == 2:\n",
    "                room2[-3+i:-2+i] = [room1[1]]\n",
    "                break\n",
    "            elif i == 1:\n",
    "                room2[-5+i:-4+i] = [room1[1]]\n",
    "                break\n",
    "            elif i == 3:\n",
    "                room2[-5+i:-4+i] = [room1[1]]\n",
    "                break\n",
    "            else:\n",
    "                print('error')\n",
    "        else:\n",
    "            pass\n",
    "            #print('no match')\n",
    "def maplink(library):\n",
    "    for i in library:\n",
    "        for j in library:\n",
    "            if i != j:\n",
    "                linkrooms(i,j)\n",
    "            else:\n",
    "                break\n",
    "    \n",
    "        \n",
    "\n",
    "\n",
    "\n"
   ]
  },
  {
   "cell_type": "code",
   "execution_count": 4,
   "metadata": {
    "collapsed": true
   },
   "outputs": [],
   "source": [
    "#initiation of the userlibrary\n",
    "\n",
    "userlibrary = []\n",
    "rhonddast = ['place','Rhondda Street','null','open','north','south','east','west']\n",
    "userlibrary.append(rhonddast)\n",
    "nthrhonddast = ['place','North Rhondda Street','null','open','north','Rhondda Street','east','west']\n",
    "userlibrary.append(nthrhonddast)"
   ]
  },
  {
   "cell_type": "code",
   "execution_count": null,
   "metadata": {
    "collapsed": true
   },
   "outputs": [],
   "source": [
    "print(inon(rhonddast[1:][2]))"
   ]
  },
  {
   "cell_type": "code",
   "execution_count": 5,
   "metadata": {
    "collapsed": false
   },
   "outputs": [
    {
     "name": "stdout",
     "output_type": "stream",
     "text": [
      "you are on Rhondda Street\n",
      "you may travel to ['none', 'north', 'south', 'east', 'west']\n",
      "where would you like to travel? (none to stay) east\n",
      "title your new entry: \n"
     ]
    },
    {
     "ename": "NameError",
     "evalue": "name 'placedef' is not defined",
     "output_type": "error",
     "traceback": [
      "\u001b[0;31m---------------------------------------------------------------------------\u001b[0m",
      "\u001b[0;31mNameError\u001b[0m                                 Traceback (most recent call last)",
      "\u001b[0;32m<ipython-input-5-48943e183b94>\u001b[0m in \u001b[0;36m<module>\u001b[0;34m()\u001b[0m\n\u001b[1;32m      1\u001b[0m \u001b[0mcurrentroom\u001b[0m \u001b[1;33m=\u001b[0m \u001b[1;33m[\u001b[0m\u001b[1;34m'place'\u001b[0m\u001b[1;33m,\u001b[0m\u001b[1;34m'0'\u001b[0m\u001b[1;33m,\u001b[0m\u001b[1;34m'0'\u001b[0m\u001b[1;33m,\u001b[0m\u001b[1;34m'0'\u001b[0m\u001b[1;33m,\u001b[0m\u001b[1;34m'0'\u001b[0m\u001b[1;33m,\u001b[0m\u001b[1;34m'0'\u001b[0m\u001b[1;33m,\u001b[0m\u001b[1;34m'0'\u001b[0m\u001b[1;33m,\u001b[0m\u001b[1;34m'0'\u001b[0m\u001b[1;33m]\u001b[0m\u001b[1;33m\u001b[0m\u001b[0m\n\u001b[0;32m----> 2\u001b[0;31m \u001b[0mchangescene\u001b[0m\u001b[1;33m(\u001b[0m\u001b[0mrhonddast\u001b[0m\u001b[1;33m)\u001b[0m\u001b[1;33m\u001b[0m\u001b[0m\n\u001b[0m\u001b[1;32m      3\u001b[0m \u001b[0mq\u001b[0m\u001b[1;33m=\u001b[0m\u001b[1;36m0\u001b[0m\u001b[1;33m\u001b[0m\u001b[0m\n\u001b[1;32m      4\u001b[0m \u001b[1;32mwhile\u001b[0m \u001b[0mq\u001b[0m \u001b[1;33m!=\u001b[0m \u001b[1;34m'exit'\u001b[0m\u001b[1;33m:\u001b[0m\u001b[1;33m\u001b[0m\u001b[0m\n\u001b[1;32m      5\u001b[0m     \u001b[0mchangescene\u001b[0m\u001b[1;33m(\u001b[0m\u001b[0mcurrentroom\u001b[0m\u001b[1;33m)\u001b[0m\u001b[1;33m\u001b[0m\u001b[0m\n",
      "\u001b[0;32m<ipython-input-2-a34cd4b04971>\u001b[0m in \u001b[0;36mchangescene\u001b[0;34m(room)\u001b[0m\n\u001b[1;32m     29\u001b[0m         \u001b[0mupdate\u001b[0m\u001b[1;33m(\u001b[0m\u001b[0mcurrentroom\u001b[0m\u001b[1;33m,\u001b[0m\u001b[0mroom\u001b[0m\u001b[1;33m)\u001b[0m\u001b[1;33m\u001b[0m\u001b[0m\n\u001b[1;32m     30\u001b[0m     \u001b[1;32melse\u001b[0m\u001b[1;33m:\u001b[0m\u001b[1;33m\u001b[0m\u001b[0m\n\u001b[0;32m---> 31\u001b[0;31m         \u001b[0mupdate\u001b[0m\u001b[1;33m(\u001b[0m\u001b[0mcurrentroom\u001b[0m\u001b[1;33m,\u001b[0m\u001b[0mget\u001b[0m\u001b[1;33m(\u001b[0m\u001b[0ma\u001b[0m\u001b[1;33m,\u001b[0m\u001b[1;34m'place'\u001b[0m\u001b[1;33m,\u001b[0m\u001b[0muserlibrary\u001b[0m\u001b[1;33m)\u001b[0m\u001b[1;33m)\u001b[0m\u001b[1;33m\u001b[0m\u001b[0m\n\u001b[0m\u001b[1;32m     32\u001b[0m \u001b[1;33m\u001b[0m\u001b[0m\n\u001b[1;32m     33\u001b[0m \u001b[1;32mdef\u001b[0m \u001b[0mlinkrooms\u001b[0m\u001b[1;33m(\u001b[0m\u001b[0mroom1\u001b[0m\u001b[1;33m,\u001b[0m\u001b[0mroom2\u001b[0m\u001b[1;33m)\u001b[0m\u001b[1;33m:\u001b[0m\u001b[1;33m\u001b[0m\u001b[0m\n",
      "\u001b[0;32m<ipython-input-1-7ce12021b641>\u001b[0m in \u001b[0;36mget\u001b[0;34m(entry, category, library)\u001b[0m\n\u001b[1;32m     15\u001b[0m         \u001b[0mnewentry\u001b[0m \u001b[1;33m=\u001b[0m \u001b[1;33m[\u001b[0m\u001b[0mtyping\u001b[0m\u001b[1;33m,\u001b[0m\u001b[0mentryname\u001b[0m\u001b[1;33m]\u001b[0m\u001b[1;33m\u001b[0m\u001b[0m\n\u001b[1;32m     16\u001b[0m         \u001b[1;32mif\u001b[0m \u001b[0mcategory\u001b[0m \u001b[1;33m==\u001b[0m \u001b[1;34m'place'\u001b[0m\u001b[1;33m:\u001b[0m\u001b[1;33m\u001b[0m\u001b[0m\n\u001b[0;32m---> 17\u001b[0;31m             \u001b[0mplacedef\u001b[0m\u001b[1;33m(\u001b[0m\u001b[0mnewentry\u001b[0m\u001b[1;33m)\u001b[0m\u001b[1;33m\u001b[0m\u001b[0m\n\u001b[0m\u001b[1;32m     18\u001b[0m             \u001b[0mcheck\u001b[0m \u001b[1;33m=\u001b[0m \u001b[1;36m1\u001b[0m\u001b[1;33m\u001b[0m\u001b[0m\n\u001b[1;32m     19\u001b[0m         \u001b[1;32melif\u001b[0m \u001b[0mcategory\u001b[0m \u001b[1;33m==\u001b[0m \u001b[1;34m'character'\u001b[0m\u001b[1;33m:\u001b[0m\u001b[1;33m\u001b[0m\u001b[0m\n",
      "\u001b[0;31mNameError\u001b[0m: name 'placedef' is not defined"
     ]
    }
   ],
   "source": [
    "currentroom = ['place','0','0','0','0','0','0','0']\n",
    "changescene(rhonddast)\n",
    "q=0\n",
    "while q != 'exit':\n",
    "    changescene(currentroom)\n",
    "    q = input('exit if done>')\n",
    "    maplink(userlibrary)\n",
    "    \n",
    "### working for predefined palces"
   ]
  },
  {
   "cell_type": "code",
   "execution_count": null,
   "metadata": {
    "collapsed": true
   },
   "outputs": [],
   "source": [
    "print(userlibrary)\n",
    "#maplink(userlibrary)\n",
    "#print(userlibrary)"
   ]
  },
  {
   "cell_type": "code",
   "execution_count": null,
   "metadata": {
    "collapsed": true
   },
   "outputs": [],
   "source": [
    "#saving and loading\n",
    "\n",
    "import csv\n",
    "\n",
    "#saver\n",
    "with open('C:\\\\Users\\\\Joe\\\\Documents\\\\PythonLibrary\\\\rhonddasav.csv', 'w') as f:\n",
    "    file_writer = csv.writer(f, delimiter= ',')\n",
    "    #file_writer.writerow(roomtype)\n",
    "    for entry in userlibrary:\n",
    "        file_writer.writerow(entry)\n",
    "        \n",
    "#loader\n",
    "userlibrary = []\n",
    "with open(\"C:\\\\Users\\\\Joe\\\\Documents\\\\PythonLibrary\\\\rhonddasav.csv\", 'r') as f:\n",
    "    file_reader = csv.reader(f, delimiter= ',')\n",
    "    for line in file_reader:\n",
    "        if len(line)<1:\n",
    "            continue\n",
    "        else:\n",
    "            userlibrary.append(line)\n"
   ]
  },
  {
   "cell_type": "code",
   "execution_count": null,
   "metadata": {
    "collapsed": true
   },
   "outputs": [],
   "source": [
    "print(userlibrary)"
   ]
  },
  {
   "cell_type": "code",
   "execution_count": 2,
   "metadata": {
    "collapsed": true
   },
   "outputs": [],
   "source": [
    "run rng_n_roll.py"
   ]
  },
  {
   "cell_type": "code",
   "execution_count": 16,
   "metadata": {},
   "outputs": [
    {
     "data": {
      "text/plain": [
       "25"
      ]
     },
     "execution_count": 16,
     "metadata": {},
     "output_type": "execute_result"
    }
   ],
   "source": []
  },
  {
   "cell_type": "code",
   "execution_count": null,
   "metadata": {},
   "outputs": [],
   "source": []
  }
 ],
 "metadata": {
  "anaconda-cloud": {},
  "kernelspec": {
   "display_name": "Python 3",
   "language": "python",
   "name": "python3"
  },
  "language_info": {
   "codemirror_mode": {
    "name": "ipython",
    "version": 3
   },
   "file_extension": ".py",
   "mimetype": "text/x-python",
   "name": "python",
   "nbconvert_exporter": "python",
   "pygments_lexer": "ipython3",
   "version": "3.7.1"
  }
 },
 "nbformat": 4,
 "nbformat_minor": 2
}
