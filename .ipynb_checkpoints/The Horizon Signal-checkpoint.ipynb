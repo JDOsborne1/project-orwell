{
 "cells": [
  {
   "cell_type": "code",
   "execution_count": 2,
   "metadata": {},
   "outputs": [],
   "source": [
    "import markovify"
   ]
  },
  {
   "cell_type": "code",
   "execution_count": 29,
   "metadata": {},
   "outputs": [],
   "source": [
    "with open(\"C:/Users/Joe/Documents/project-orwell/data.txt\") as f:\n",
    "    text = f.read()\n"
   ]
  },
  {
   "cell_type": "code",
   "execution_count": 30,
   "metadata": {},
   "outputs": [],
   "source": [
    "# Build the model.\n",
    "text_model = markovify.Text(text)"
   ]
  },
  {
   "cell_type": "code",
   "execution_count": 32,
   "metadata": {
    "scrolled": true
   },
   "outputs": [
    {
     "name": "stdout",
     "output_type": "stream",
     "text": [
      "Maybe, since my eyes have seen, Nothing compares to the beauty I see or when, It brings you back to mind again.\n",
      "There's a story told of a life that makes dreams come true.\n",
      "Each day is filled with blessing and wonder, A truth with a perfect match, Something that's bright and new.\n",
      "My thoughts of you are like a monument carved in stone.\n",
      "It’s hard work to tear the monument down, To make you want to cry.\n",
      "So always take the time in the loop better.\n",
      "I love you for more years to share!\n",
      "Your tolerance is endless, However I choose to overlook my flaws, The ones I try to tell you and me.\n",
      "Before I met you, I thought never could be.\n",
      "You're my perfect refuge.\n",
      "A truth with a voice loud as thunder, A truth filled with love and with caring, A truth filled with dreams of you fills me with a message worth sharing.\n",
      "Now my brain slips out of joint I fight my love, I had concealed from myself.\n",
      "If not for you, I ache for you...\n",
      "When life is cold, I wrap myself in your love, my perfect refuge.\n",
      "Sunflowers reach, Up to the beauty I see you at my side, I’m contented For my dreaming came true, don’t you see?\n"
     ]
    }
   ],
   "source": [
    "# Print five randomly-generated sentences\n",
    "for i in range(15):\n",
    "    print(text_model.make_sentence())"
   ]
  },
  {
   "cell_type": "code",
   "execution_count": null,
   "metadata": {},
   "outputs": [],
   "source": []
  },
  {
   "cell_type": "code",
   "execution_count": null,
   "metadata": {},
   "outputs": [],
   "source": []
  }
 ],
 "metadata": {
  "kernelspec": {
   "display_name": "Python [conda root]",
   "language": "python",
   "name": "conda-root-py"
  },
  "language_info": {
   "codemirror_mode": {
    "name": "ipython",
    "version": 3
   },
   "file_extension": ".py",
   "mimetype": "text/x-python",
   "name": "python",
   "nbconvert_exporter": "python",
   "pygments_lexer": "ipython3",
   "version": "3.6.6"
  }
 },
 "nbformat": 4,
 "nbformat_minor": 2
}
