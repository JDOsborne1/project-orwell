{
 "cells": [
  {
   "cell_type": "code",
   "execution_count": 1,
   "metadata": {
    "collapsed": true
   },
   "outputs": [],
   "source": [
    "import numpy as np\n",
    "#Network table\n",
    "a=0\n",
    "b=a\n",
    "Net =np.array([\n",
    "    [b,2,1,a,a,a,a],\n",
    "    [2,b,1,a,a,a,a],\n",
    "    [1,1,b,2,2,a,a],  \n",
    "    [a,a,2,b,2,a,a],\n",
    "    [a,a,2,2,b,2,a],\n",
    "    [a,a,a,a,2,b,2],\n",
    "    [a,a,a,a,a,2,b]\n",
    "])           "
   ]
  },
  {
   "cell_type": "code",
   "execution_count": 2,
   "metadata": {
    "collapsed": true
   },
   "outputs": [],
   "source": [
    "#Setting parameters and importing Random\n",
    "import random as R\n",
    "Net2 = np.zeros((10,10))\n",
    "x = len(Net2)\n",
    "#Generating the top edge of the random network\n",
    "for i in range(x):\n",
    "    for j in range(i,len(Net2)):\n",
    "        Net2[i][j]= R.randint(0,1)\n",
    "    Net2[i][i] = 0\n",
    "#Filling in the bottom edge for a two way network\n",
    "for i in range(x):\n",
    "    for j in range(x):\n",
    "        Net2[j][i]=Net2[i][j]\n"
   ]
  },
  {
   "cell_type": "code",
   "execution_count": 3,
   "metadata": {
    "collapsed": false
   },
   "outputs": [
    {
     "data": {
      "text/plain": [
       "array([[0., 1., 0., 0., 1., 1., 1., 0., 1., 0.],\n",
       "       [1., 0., 1., 0., 0., 0., 1., 1., 0., 0.],\n",
       "       [0., 1., 0., 0., 1., 0., 1., 1., 1., 1.],\n",
       "       [0., 0., 0., 0., 0., 0., 0., 1., 0., 1.],\n",
       "       [1., 0., 1., 0., 0., 0., 0., 1., 0., 0.],\n",
       "       [1., 0., 0., 0., 0., 0., 0., 0., 1., 1.],\n",
       "       [1., 1., 1., 0., 0., 0., 0., 0., 1., 1.],\n",
       "       [0., 1., 1., 1., 1., 0., 0., 0., 1., 0.],\n",
       "       [1., 0., 1., 0., 0., 1., 1., 1., 0., 1.],\n",
       "       [0., 0., 1., 1., 0., 1., 1., 0., 1., 0.]])"
      ]
     },
     "execution_count": 3,
     "metadata": {},
     "output_type": "execute_result"
    }
   ],
   "source": [
    "Net2"
   ]
  },
  {
   "cell_type": "code",
   "execution_count": 22,
   "metadata": {
    "collapsed": true
   },
   "outputs": [],
   "source": [
    "Net3 = np.array([\n",
    "    [0,.1,8,8,0,0,0,0,0],\n",
    "    [.1,0,0,8,.1,0,0,0,0],\n",
    "    [8,0,0,.1,0,0,8,0,0],\n",
    "    [8,8,.1,0,0,.1,0,8,8],\n",
    "    [0,.1,0,0,0,8,0,0,0],\n",
    "    [0,0,0,.1,8,0,0,0,8],\n",
    "    [0,0,8,0,0,0,0,.1,0],\n",
    "    [0,0,0,8,0,0,.1,0,.1],\n",
    "    [0,0,0,8,0,8,0,.1,0]\n",
    "])\n",
    "l= len(Net3)"
   ]
  },
  {
   "cell_type": "code",
   "execution_count": null,
   "metadata": {
    "collapsed": true
   },
   "outputs": [],
   "source": []
  },
  {
   "cell_type": "code",
   "execution_count": null,
   "metadata": {
    "collapsed": true
   },
   "outputs": [],
   "source": []
  },
  {
   "cell_type": "code",
   "execution_count": null,
   "metadata": {
    "collapsed": true
   },
   "outputs": [],
   "source": [
    "\n"
   ]
  },
  {
   "cell_type": "code",
   "execution_count": null,
   "metadata": {
    "collapsed": true
   },
   "outputs": [],
   "source": []
  },
  {
   "cell_type": "code",
   "execution_count": null,
   "metadata": {
    "collapsed": true
   },
   "outputs": [],
   "source": []
  },
  {
   "cell_type": "code",
   "execution_count": 23,
   "metadata": {
    "collapsed": true
   },
   "outputs": [],
   "source": [
    "#Network table #The table which describes the network at hand\n",
    "Track = np.zeros(Net3.shape)#Tracking frame # the structure which tracks which values have been finalized and the values they are finalised to\n",
    "for i in range(l):\n",
    "    Track[i][i]=1"
   ]
  },
  {
   "cell_type": "code",
   "execution_count": 5,
   "metadata": {
    "collapsed": true
   },
   "outputs": [],
   "source": [
    "#References\n",
    "\n",
    "Dict1 = {i:j for i,j in zip(['A','B','C','D','E','F','G','H','I','J'],[0,1,2,3,4,5,6,7,8,9])} #Connecting Dictionary which assigns the node label to its place in the network table\n",
    "Dict2 = {i:j for i,j in zip([0,1,2,3,4,5,6,7,8,9],['A','B','C','D','E','F','G','H','I','J'])} #Connecting Dictionary which assigns the node label to its place in the network table\n"
   ]
  },
  {
   "cell_type": "code",
   "execution_count": 12,
   "metadata": {
    "collapsed": true
   },
   "outputs": [],
   "source": [
    "#function to determine remnant value\n",
    "#inputs\n",
    "Type = Dict1['A'] #Identifies the type of the potential which is being mapped\n",
    "Node = Dict1['C'] #Identifies the Node being calculated\n",
    "\n",
    "def remnant(Node,Type,Net,Track):\n",
    "#Function specific variables\n",
    "    Conns = Net[Node] # Vector of connections for the specific node\n",
    "    SpTrack = Track[Type] #Tracking table sliced for the remnants of the specified type\n",
    "\n",
    "    Value = 0 #Node value for that type at that node\n",
    "    for i in range(l):\n",
    "        if Conns[i] != 0:\n",
    "            Value += SpTrack[i]*Conns[i]/10\n",
    "        \n",
    "    return Value\n",
    "\n"
   ]
  },
  {
   "cell_type": "code",
   "execution_count": 24,
   "metadata": {
    "collapsed": false
   },
   "outputs": [
    {
     "name": "stdout",
     "output_type": "stream",
     "text": [
      "No Futher Nodes\n",
      "No Futher Nodes\n",
      "No Futher Nodes\n",
      "No Futher Nodes\n",
      "No Futher Nodes\n",
      "No Futher Nodes\n",
      "No Futher Nodes\n",
      "No Futher Nodes\n",
      "No Futher Nodes\n",
      "[[1.        0.65      0.8       0.8       0.4225    0.52      0.64\n",
      "  0.64      0.64     ]\n",
      " [0.65      1.        0.528     0.8       0.426     0.52      0.4288\n",
      "  0.64      0.64     ]\n",
      " [0.8       0.528     1.        0.65      0.3466592 0.426724  0.8\n",
      "  0.528     0.52528  ]\n",
      " [0.8       0.8       0.65      1.        0.528     0.65      0.528\n",
      "  0.8       0.8      ]\n",
      " [0.42026   0.426     0.341408  0.52      1.        0.8       0.2773504\n",
      "  0.4224    0.64     ]\n",
      " [0.52528   0.528     0.426724  0.65      0.8       1.        0.3466592\n",
      "  0.528     0.8      ]\n",
      " [0.64      0.4224    0.8       0.52      0.2773504 0.341408  1.\n",
      "  0.426     0.42026  ]\n",
      " [0.64      0.64      0.52      0.8       0.4288    0.528     0.426\n",
      "  1.        0.65     ]\n",
      " [0.64      0.64      0.52      0.8       0.64      0.8       0.4225\n",
      "  0.65      1.       ]]\n"
     ]
    }
   ],
   "source": [
    "#function to generate the avaiable set of temporary values and finalise the highest value\n",
    "#It is fed the tracking table and chooses to proceed from the highest value it finds there\n",
    "#inputs\n",
    "Type = Dict1['A']\n",
    "\n",
    "#from time import sleep #For caution when testing\n",
    "#Function specific\n",
    "def Spillover2(Type,Net,Track):\n",
    "    remaining = True\n",
    "    while remaining:\n",
    "        #sleep(1)\n",
    "        Virtual = np.zeros(l)\n",
    "        for i in range(l):\n",
    "            if Track[Type][i] == 0:\n",
    "                Virtual[i] = remnant(i,Type,Net,Track)\n",
    "\n",
    "        if sum(Virtual) != 0:\n",
    "            for i in np.where(Virtual == max(Virtual)):\n",
    "                Track[Type][i]=Virtual[i]\n",
    "        else:\n",
    "            print('No Futher Nodes')\n",
    "            remaining = False\n",
    "for j in range(l):\n",
    "    Spillover2(j,Net3,Track)\n",
    "\n",
    "print(Track)\n",
    "#outputs\n",
    "#none, it changes the tracking table and once complete, is the remnants table"
   ]
  },
  {
   "cell_type": "code",
   "execution_count": 32,
   "metadata": {
    "collapsed": false
   },
   "outputs": [
    {
     "name": "stdout",
     "output_type": "stream",
     "text": [
      "At C\n",
      "Aiming at A\n",
      "At A\n",
      "Aiming at D\n",
      "At D\n",
      "Aiming at B\n"
     ]
    }
   ],
   "source": [
    "#pathfinder function, to determine the best path to a destination node using the persistent values\n",
    "from time import sleep\n",
    "#inputs\n",
    "Destination = Dict1['B']\n",
    "Location = Dict1['C']\n",
    "\n",
    "#Function specific\n",
    "Vision = Track[Destination] #Slices out the remnants for the specified destination node\n",
    "\n",
    "while Location != Destination:\n",
    "    sleep(1)\n",
    "    Conns = Net3[Location] #Slices out the vector of connections for the specified location node\n",
    "\n",
    "    Seen =  Vision * Conns# The array of potentials directly seen from the location node\n",
    "\n",
    "    Aim = np.where(Seen==max(Seen))[0][0]\n",
    "\n",
    "    print('At {}'.format(Dict2[Location]))\n",
    "    print('Aiming at {}'.format(Dict2[Aim]))\n",
    "    Location = Aim\n"
   ]
  },
  {
   "cell_type": "code",
   "execution_count": 30,
   "metadata": {
    "collapsed": false
   },
   "outputs": [
    {
     "data": {
      "text/plain": [
       "array([0.65  , 1.    , 0.528 , 0.8   , 0.426 , 0.52  , 0.4288, 0.64  ,\n",
       "       0.64  ])"
      ]
     },
     "execution_count": 30,
     "metadata": {},
     "output_type": "execute_result"
    }
   ],
   "source": [
    "Track[Dict1['B']]"
   ]
  },
  {
   "cell_type": "code",
   "execution_count": null,
   "metadata": {
    "collapsed": true
   },
   "outputs": [],
   "source": []
  },
  {
   "cell_type": "code",
   "execution_count": 10,
   "metadata": {
    "collapsed": false
   },
   "outputs": [
    {
     "data": {
      "text/plain": [
       "'\\ndef link(vect1,vect2,conn):\\n    return (vect1/(1+vect1/(vect2+conn)))\\nlink((link(Net[0],Net[1],2)),Net[2],0.75)\\n'"
      ]
     },
     "execution_count": 10,
     "metadata": {},
     "output_type": "execute_result"
    }
   ],
   "source": [
    "#Defunct\n",
    "'''\n",
    "def link(vect1,vect2,conn):\n",
    "    return (vect1/(1+vect1/(vect2+conn)))\n",
    "link((link(Net[0],Net[1],2)),Net[2],0.75)\n",
    "'''\n",
    "\n",
    "'''\n",
    "(Conns>0).astype(int) *\n",
    "'''"
   ]
  }
 ],
 "metadata": {
  "anaconda-cloud": {},
  "kernelspec": {
   "display_name": "Python [default]",
   "language": "python",
   "name": "python3"
  },
  "language_info": {
   "codemirror_mode": {
    "name": "ipython",
    "version": 3
   },
   "file_extension": ".py",
   "mimetype": "text/x-python",
   "name": "python",
   "nbconvert_exporter": "python",
   "pygments_lexer": "ipython3",
   "version": "3.5.2"
  }
 },
 "nbformat": 4,
 "nbformat_minor": 2
}
