{
 "cells": [
  {
   "cell_type": "code",
   "execution_count": 2,
   "metadata": {},
   "outputs": [],
   "source": [
    "import numpy as np\n",
    "Net3 = np.array([\n",
    "    [0,.1,8,8,0,0,0,0,0],\n",
    "    [.1,0,0,8,.1,0,0,0,0],\n",
    "    [8,0,0,.1,0,0,8,0,0],\n",
    "    [8,8,.1,0,0,.1,0,8,8],\n",
    "    [0,.1,0,0,0,8,0,0,0],\n",
    "    [0,0,0,.1,8,0,0,0,8],\n",
    "    [0,0,8,0,0,0,0,.1,0],\n",
    "    [0,0,0,8,0,0,.1,0,.1],\n",
    "    [0,0,0,8,0,8,0,.1,0]\n",
    "])\n",
    "\n",
    "#Network table #The table which describes the network at hand\n",
    "Track = np.zeros(Net3.shape)#Tracking frame # the structure which tracks which values have been finalized and the values they are finalised to\n",
    "l = len(Net3)\n",
    "for i in range(l):\n",
    "    Track[i][i]=1\n",
    "# Initially speaking all the nodes are only tracked as having a remnant presence in themselves"
   ]
  },
  {
   "cell_type": "markdown",
   "metadata": {},
   "source": [
    "Want to document the expected structures for the net array and the tracking array and how they would have to be stored as attributes\n",
    "\n",
    "1. Square Array NxN\n",
    "\n",
    "1. Net array has values of connectivity, where higher connectivity means easier movement between nodes\n",
    "\n",
    "1. Track array has values of remnant presence, which falls between 0 and 1, where a higher remnant presense means more of the output from a given node reaches the observer node\n",
    "\n",
    "1. Initially speaking the track array is expected to be all zeros apart from the leading axis, which is all ones\n",
    "\n"
   ]
  },
  {
   "cell_type": "markdown",
   "metadata": {},
   "source": [
    "References\n",
    "The dictionaries which allow the numeric references of the nodes in the network to have a label which they can be called from\n",
    "\n",
    "Aim to integrate the allocation dictionaries into the environment class itself so that an environment search is possible"
   ]
  },
  {
   "cell_type": "code",
   "execution_count": 3,
   "metadata": {},
   "outputs": [],
   "source": [
    "run spillover2.py"
   ]
  },
  {
   "cell_type": "code",
   "execution_count": 31,
   "metadata": {},
   "outputs": [],
   "source": [
    "run WLORS_classes.py"
   ]
  },
  {
   "cell_type": "code",
   "execution_count": 32,
   "metadata": {},
   "outputs": [
    {
     "name": "stdout",
     "output_type": "stream",
     "text": [
      "No Futher Nodes\n",
      "No Futher Nodes\n",
      "No Futher Nodes\n",
      "No Futher Nodes\n",
      "No Futher Nodes\n",
      "No Futher Nodes\n",
      "No Futher Nodes\n",
      "No Futher Nodes\n",
      "No Futher Nodes\n"
     ]
    }
   ],
   "source": [
    "#function to determine remnant value\n",
    "#inputs\n",
    "#Type = Dict1['A'] #Identifies the type of the potential which is being mapped\n",
    "#Node = Dict1['C'] #Identifies the Node being calculated\n",
    "\n",
    "#function to generate the avaiable set of temporary values and finalise the highest value\n",
    "#It is fed the tracking table and chooses to proceed from the highest value it finds there\n",
    "#inputs\n",
    "#Type = Dict1['A']\n",
    "\n",
    "#from time import sleep #For caution when testing\n",
    "#Function specific\n",
    "testbox = Environment('Testbox', Net3, Track)\n",
    "for j in range(len(testbox.network)):\n",
    "    Spillover2(j,testbox.network,testbox.track)"
   ]
  },
  {
   "cell_type": "code",
   "execution_count": 33,
   "metadata": {},
   "outputs": [
    {
     "name": "stdout",
     "output_type": "stream",
     "text": [
      "At 2\n",
      "Aiming at 0\n",
      "At 0\n",
      "Aiming at 3\n",
      "At 3\n",
      "Aiming at 8\n"
     ]
    }
   ],
   "source": [
    "#pathfinder function, to determine the best path to a destination node using the persistent values\n",
    "\n",
    "#inputs\n",
    "Dict1 = {i:j for i,j in zip(['A','B','C','D','E','F','G','H','I','J'],[0,1,2,3,4,5,6,7,8,9])} \n",
    "#Connecting Dictionary which assigns the node label to its place in the network table\n",
    "Dict2 = {i:j for i,j in zip([0,1,2,3,4,5,6,7,8,9],['A','B','C','D','E','F','G','H','I','J'])} \n",
    "#Connecting Dictionary which assigns the node label to its place in the network table\n",
    "Destination = Dict1['I']\n",
    "Location = Dict1['C']\n",
    "\n",
    "\n",
    "Pathfind(testbox.network, testbox.track, Destination, Location)"
   ]
  },
  {
   "cell_type": "code",
   "execution_count": 7,
   "metadata": {},
   "outputs": [
    {
     "data": {
      "text/plain": [
       "\u001b[1;31mInit signature:\u001b[0m \u001b[0mLocale\u001b[0m\u001b[1;33m(\u001b[0m\u001b[0mname\u001b[0m\u001b[1;33m,\u001b[0m \u001b[0mopen_closed\u001b[0m\u001b[1;33m,\u001b[0m \u001b[0mcoord\u001b[0m\u001b[1;33m,\u001b[0m \u001b[0mconnectionref\u001b[0m\u001b[1;33m)\u001b[0m\u001b[1;33m\u001b[0m\u001b[1;33m\u001b[0m\u001b[0m\n",
       "\u001b[1;31mDocstring:\u001b[0m      <no docstring>\n",
       "\u001b[1;31mInit docstring:\u001b[0m\n",
       "I would want to include as an argument to initialiser a connection element\n",
       "which would indicate where it can connect to integrating with its spillover\n",
       "connections\n",
       "\u001b[1;31mType:\u001b[0m           type\n",
       "\u001b[1;31mSubclasses:\u001b[0m     \n"
      ]
     },
     "metadata": {},
     "output_type": "display_data"
    }
   ],
   "source": [
    "Locale?"
   ]
  },
  {
   "cell_type": "code",
   "execution_count": 34,
   "metadata": {},
   "outputs": [],
   "source": [
    "t1 = Locale(\"testloc 1\", True, np.array([1,1,1]), 'A')\n",
    "t2 = Locale(\"testloc 2\", True, np.array([1,0,1]), 'B')\n",
    "t3 = Locale(\"testloc 3\", False, np.array([1,1,0]), 'C')\n",
    "testbox.scenes = [t1,t2,t3]"
   ]
  },
  {
   "cell_type": "code",
   "execution_count": 35,
   "metadata": {},
   "outputs": [
    {
     "data": {
      "text/plain": [
       "'you are in testloc 1'"
      ]
     },
     "execution_count": 35,
     "metadata": {},
     "output_type": "execute_result"
    }
   ],
   "source": [
    "testbox.scenes[0].scene()"
   ]
  },
  {
   "cell_type": "code",
   "execution_count": 10,
   "metadata": {},
   "outputs": [
    {
     "name": "stdin",
     "output_type": "stream",
     "text": [
      "Address Mr. Testy the Brave\n",
      "Race hooman\n",
      "Class rogue\n",
      "Strength 12\n",
      "Intelligence 12\n",
      "Agility 12\n",
      "Dexterity 12\n",
      "Wisdom 12\n",
      "Madness 12\n",
      "Luck 12\n",
      "Fortitude 12\n",
      "Wits 12\n",
      "Description hooman brave boi\n"
     ]
    }
   ],
   "source": [
    "testboi = character_creation()"
   ]
  },
  {
   "cell_type": "code",
   "execution_count": 36,
   "metadata": {},
   "outputs": [],
   "source": [
    "testboi.localise(t1)"
   ]
  },
  {
   "cell_type": "code",
   "execution_count": 37,
   "metadata": {},
   "outputs": [
    {
     "data": {
      "text/plain": [
       "'you are in testloc 1'"
      ]
     },
     "execution_count": 37,
     "metadata": {},
     "output_type": "execute_result"
    }
   ],
   "source": [
    "testboi.locale.scene()"
   ]
  },
  {
   "cell_type": "markdown",
   "metadata": {},
   "source": [
    "Have a successful localisation of a character, now just need to work on using the network stored in the environment to give the options for a location change. Possibly even make it so that you can choose to travel to any of the places known to you in the network, using the spillover algorithm to realistically simulate pathfinding. "
   ]
  },
  {
   "cell_type": "code",
   "execution_count": 38,
   "metadata": {},
   "outputs": [],
   "source": [
    "test = (testbox.network[Dict1[t1.connectionref]] != 0)\n",
    "# shows an array of trues and falses to indicate which nodes node-0 is connected to."
   ]
  },
  {
   "cell_type": "code",
   "execution_count": 39,
   "metadata": {},
   "outputs": [
    {
     "name": "stdout",
     "output_type": "stream",
     "text": [
      "You can connect to node B\n",
      "You can connect to node C\n",
      "You can connect to node D\n"
     ]
    },
    {
     "name": "stdin",
     "output_type": "stream",
     "text": [
      "where do you want to connect?  B\n"
     ]
    },
    {
     "name": "stdout",
     "output_type": "stream",
     "text": [
      "<bound method Locale.scene of <__main__.Locale object at 0x000002157E67D128>>\n"
     ]
    },
    {
     "name": "stdin",
     "output_type": "stream",
     "text": [
      "where next?  \n"
     ]
    },
    {
     "ename": "AttributeError",
     "evalue": "'Library' object has no attribute 'locales'",
     "output_type": "error",
     "traceback": [
      "\u001b[1;31m---------------------------------------------------------------------------\u001b[0m",
      "\u001b[1;31mAttributeError\u001b[0m                            Traceback (most recent call last)",
      "\u001b[1;32m<ipython-input-39-98c1157891e8>\u001b[0m in \u001b[0;36m<module>\u001b[1;34m\u001b[0m\n\u001b[0;32m      5\u001b[0m \u001b[1;32mfor\u001b[0m \u001b[0mj\u001b[0m \u001b[1;32min\u001b[0m \u001b[0mtestbox\u001b[0m\u001b[1;33m.\u001b[0m\u001b[0mscenes\u001b[0m\u001b[1;33m:\u001b[0m\u001b[1;33m\u001b[0m\u001b[1;33m\u001b[0m\u001b[0m\n\u001b[0;32m      6\u001b[0m     \u001b[1;32mif\u001b[0m \u001b[0mj\u001b[0m\u001b[1;33m.\u001b[0m\u001b[0mconnectionref\u001b[0m \u001b[1;33m==\u001b[0m \u001b[0mdest\u001b[0m\u001b[1;33m:\u001b[0m\u001b[1;33m\u001b[0m\u001b[1;33m\u001b[0m\u001b[0m\n\u001b[1;32m----> 7\u001b[1;33m         \u001b[0mtestboi\u001b[0m\u001b[1;33m.\u001b[0m\u001b[0mupdatelocale\u001b[0m\u001b[1;33m(\u001b[0m\u001b[0mj\u001b[0m\u001b[1;33m)\u001b[0m\u001b[1;33m\u001b[0m\u001b[1;33m\u001b[0m\u001b[0m\n\u001b[0m",
      "\u001b[1;32m~\\Documents\\PythonLibrary\\project-orwell\\WLORS_classes.py\u001b[0m in \u001b[0;36mupdatelocale\u001b[1;34m(self, newlocale)\u001b[0m\n\u001b[0;32m     55\u001b[0m         \u001b[0mself\u001b[0m\u001b[1;33m.\u001b[0m\u001b[0mlocale\u001b[0m \u001b[1;33m=\u001b[0m \u001b[0mnewlocale\u001b[0m\u001b[1;33m\u001b[0m\u001b[1;33m\u001b[0m\u001b[0m\n\u001b[0;32m     56\u001b[0m \u001b[1;33m\u001b[0m\u001b[0m\n\u001b[1;32m---> 57\u001b[1;33m \u001b[1;32mdef\u001b[0m \u001b[0mcharacter_creation\u001b[0m\u001b[1;33m(\u001b[0m\u001b[1;33m)\u001b[0m\u001b[1;33m:\u001b[0m\u001b[1;33m\u001b[0m\u001b[1;33m\u001b[0m\u001b[0m\n\u001b[0m\u001b[0;32m     58\u001b[0m     return Character(get('Address', str),\n\u001b[0;32m     59\u001b[0m                      \u001b[0mget\u001b[0m\u001b[1;33m(\u001b[0m\u001b[1;34m'Race'\u001b[0m\u001b[1;33m,\u001b[0m\u001b[0mstr\u001b[0m\u001b[1;33m)\u001b[0m\u001b[1;33m,\u001b[0m\u001b[1;33m\u001b[0m\u001b[1;33m\u001b[0m\u001b[0m\n",
      "\u001b[1;31mAttributeError\u001b[0m: 'Library' object has no attribute 'locales'"
     ]
    }
   ],
   "source": [
    "for i in range(len(test)):\n",
    "    if test[i]:\n",
    "        print('You can connect to node {}'.format(Dict2[i]))\n",
    "dest = get('where do you want to connect? ', str)\n",
    "for j in testbox.scenes:\n",
    "    if j.connectionref == dest:\n",
    "        testboi.updatelocale(j)"
   ]
  },
  {
   "cell_type": "code",
   "execution_count": null,
   "metadata": {},
   "outputs": [],
   "source": []
  }
 ],
 "metadata": {
  "anaconda-cloud": {},
  "kernelspec": {
   "display_name": "Python 3",
   "language": "python",
   "name": "python3"
  },
  "language_info": {
   "codemirror_mode": {
    "name": "ipython",
    "version": 3
   },
   "file_extension": ".py",
   "mimetype": "text/x-python",
   "name": "python",
   "nbconvert_exporter": "python",
   "pygments_lexer": "ipython3",
   "version": "3.7.1"
  }
 },
 "nbformat": 4,
 "nbformat_minor": 2
}
