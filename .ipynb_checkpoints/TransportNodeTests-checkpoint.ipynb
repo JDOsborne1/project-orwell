{
 "cells": [
  {
   "cell_type": "code",
   "execution_count": 1,
   "metadata": {},
   "outputs": [],
   "source": [
    "import numpy as np\n",
    "Net3 = np.array([\n",
    "    [0,.1,8,8,0,0,0,0,0],\n",
    "    [.1,0,0,8,.1,0,0,0,0],\n",
    "    [8,0,0,.1,0,0,8,0,0],\n",
    "    [8,8,.1,0,0,.1,0,8,8],\n",
    "    [0,.1,0,0,0,8,0,0,0],\n",
    "    [0,0,0,.1,8,0,0,0,8],\n",
    "    [0,0,8,0,0,0,0,.1,0],\n",
    "    [0,0,0,8,0,0,.1,0,.1],\n",
    "    [0,0,0,8,0,8,0,.1,0]\n",
    "])\n",
    "\n",
    "#Network table #The table which describes the network at hand\n",
    "Track = np.zeros(Net3.shape)#Tracking frame # the structure which tracks which values have been finalized and the values they are finalised to\n",
    "l = len(Net3)\n",
    "for i in range(l):\n",
    "    Track[i][i]=1\n",
    "# Initially speaking all the nodes are only tracked as having a remnant presence in themselves"
   ]
  },
  {
   "cell_type": "markdown",
   "metadata": {},
   "source": [
    "Want to document the expected structures for the net array and the tracking array and how they would have to be stored as attributes\n",
    "\n",
    "1. Square Array NxN\n",
    "\n",
    "1. Net array has values of connectivity, where higher connectivity means easier movement between nodes\n",
    "\n",
    "1. Track array has values of remnant presence, which falls between 0 and 1, where a higher remnant presense means more of the output from a given node reaches the observer node\n",
    "\n",
    "1. Initially speaking the track array is expected to be all zeros apart from the leading axis, which is all ones\n",
    "\n"
   ]
  },
  {
   "cell_type": "markdown",
   "metadata": {},
   "source": [
    "References\n",
    "The dictionaries which allow the numeric references of the nodes in the network to have a label which they can be called from\n",
    "\n",
    "Aim to integrate the allocation dictionaries into the environment class itself so that an environment search is possible"
   ]
  },
  {
   "cell_type": "code",
   "execution_count": 2,
   "metadata": {},
   "outputs": [],
   "source": [
    "run spillover2.py"
   ]
  },
  {
   "cell_type": "code",
   "execution_count": 3,
   "metadata": {},
   "outputs": [],
   "source": [
    "run WLORS_classes.py"
   ]
  },
  {
   "cell_type": "code",
   "execution_count": 4,
   "metadata": {},
   "outputs": [],
   "source": [
    "#function to determine remnant value\n",
    "#inputs\n",
    "#Type = Dict1['A'] #Identifies the type of the potential which is being mapped\n",
    "#Node = Dict1['C'] #Identifies the Node being calculated\n",
    "\n",
    "#function to generate the avaiable set of temporary values and finalise the highest value\n",
    "#It is fed the tracking table and chooses to proceed from the highest value it finds there\n",
    "#inputs\n",
    "#Type = Dict1['A']\n",
    "\n",
    "#from time import sleep #For caution when testing\n",
    "#Function specific\n",
    "#inputs\n",
    "Dict1 = {i:j for i,j in zip(['A','B','C','D','E','F','G','H','I','J'],[0,1,2,3,4,5,6,7,8,9])} \n",
    "#Connecting Dictionary which assigns the node label to its place in the network table\n",
    "Dict2 = {i:j for i,j in zip([0,1,2,3,4,5,6,7,8,9],['A','B','C','D','E','F','G','H','I','J'])} \n",
    "#Connecting Dictionary which assigns the node label to its place in the network table\n",
    "testbox = Environment('Testbox', Net3, Track, Dict1, Dict2, [])\n",
    "for j in range(len(testbox.network)):\n",
    "    spillover2(j,testbox.network,testbox.track)"
   ]
  },
  {
   "cell_type": "code",
   "execution_count": 5,
   "metadata": {},
   "outputs": [
    {
     "name": "stdout",
     "output_type": "stream",
     "text": [
      "At 2\n",
      "Aiming at 0\n",
      "At 0\n",
      "Aiming at 3\n",
      "At 3\n",
      "Aiming at 8\n"
     ]
    }
   ],
   "source": [
    "#pathfinder function, to determine the best path to a destination node using the persistent values\n",
    "\n",
    "\n",
    "Destination = Dict1['I']\n",
    "Location = Dict1['C']\n",
    "\n",
    "\n",
    "pathfind(testbox.network, testbox.track, Destination, Location)"
   ]
  },
  {
   "cell_type": "code",
   "execution_count": 6,
   "metadata": {},
   "outputs": [],
   "source": [
    "t1 = Locale(\"testloc 1\", True, np.array([1,1,1]), 'A')\n",
    "t2 = Locale(\"testloc 2\", True, np.array([1,0,1]), 'B')\n",
    "t3 = Locale(\"testloc 3\", False, np.array([1,1,0]), 'I')\n",
    "testbox.scenes = [t1,t2,t3]"
   ]
  },
  {
   "cell_type": "code",
   "execution_count": 7,
   "metadata": {},
   "outputs": [
    {
     "data": {
      "text/plain": [
       "'you are in testloc 1'"
      ]
     },
     "execution_count": 7,
     "metadata": {},
     "output_type": "execute_result"
    }
   ],
   "source": [
    "testbox.scenes[0].scene()"
   ]
  },
  {
   "cell_type": "code",
   "execution_count": 8,
   "metadata": {},
   "outputs": [],
   "source": [
    "import pickle\n",
    "with open('save.opy', 'rb') as f:\n",
    "    testboi = pickle.load(f)"
   ]
  },
  {
   "cell_type": "code",
   "execution_count": 9,
   "metadata": {},
   "outputs": [],
   "source": [
    "testboi.localise(t1)"
   ]
  },
  {
   "cell_type": "code",
   "execution_count": 10,
   "metadata": {},
   "outputs": [
    {
     "data": {
      "text/plain": [
       "'you are in testloc 1'"
      ]
     },
     "execution_count": 10,
     "metadata": {},
     "output_type": "execute_result"
    }
   ],
   "source": [
    "testboi.locale.scene()"
   ]
  },
  {
   "cell_type": "markdown",
   "metadata": {},
   "source": [
    "Have a successful localisation of a character, now just need to work on using the network stored in the environment to give the options for a location change. Possibly even make it so that you can choose to travel to any of the places known to you in the network, using the spillover algorithm to realistically simulate pathfinding. \n",
    "* Done"
   ]
  },
  {
   "cell_type": "code",
   "execution_count": 18,
   "metadata": {},
   "outputs": [
    {
     "data": {
      "text/plain": [
       "'you are in testloc 2'"
      ]
     },
     "execution_count": 18,
     "metadata": {},
     "output_type": "execute_result"
    }
   ],
   "source": [
    "testboi.locale.scene()"
   ]
  },
  {
   "cell_type": "code",
   "execution_count": 12,
   "metadata": {},
   "outputs": [],
   "source": [
    "#testbox.maneuver(testboi)"
   ]
  },
  {
   "cell_type": "markdown",
   "metadata": {},
   "source": [
    "Want to make use of the pickle library to save Testy the brave as a file to be reloaded, streamlining testing and forming core of \"Saving\" in the worldbook\n",
    "* Done"
   ]
  },
  {
   "cell_type": "code",
   "execution_count": 13,
   "metadata": {},
   "outputs": [],
   "source": [
    "with open('save.opy', 'wb') as f:\n",
    "    pickle.dump(testboi, f)"
   ]
  },
  {
   "cell_type": "markdown",
   "metadata": {},
   "source": [
    "Stage 1: better integration of the different classes\n",
    "\n",
    "Stage 2: implementation of the get function feature"
   ]
  },
  {
   "cell_type": "markdown",
   "metadata": {},
   "source": [
    "RE: Stage 1: Classes are already mostly integrated, intent to create a partial pathfinding function that can allow for a character to navigate to any connected locale in the environment\n",
    "* Done"
   ]
  },
  {
   "cell_type": "code",
   "execution_count": 17,
   "metadata": {},
   "outputs": [
    {
     "name": "stdout",
     "output_type": "stream",
     "text": [
      "Known Locales: A,B,C,D,E,F,G,H,I\n"
     ]
    },
    {
     "name": "stdin",
     "output_type": "stream",
     "text": [
      "where do you want to connect?  I\n"
     ]
    },
    {
     "name": "stdout",
     "output_type": "stream",
     "text": [
      "You can connect to node B\n",
      "You can connect to node C\n",
      "You can connect to node D\n",
      "From the density of remnants your best route goes through D\n"
     ]
    },
    {
     "name": "stdin",
     "output_type": "stream",
     "text": [
      "where do you want to connect?  B\n"
     ]
    }
   ],
   "source": [
    "testboi.navigate(testbox)"
   ]
  }
 ],
 "metadata": {
  "anaconda-cloud": {},
  "kernelspec": {
   "display_name": "Python 3",
   "language": "python",
   "name": "python3"
  },
  "language_info": {
   "codemirror_mode": {
    "name": "ipython",
    "version": 3
   },
   "file_extension": ".py",
   "mimetype": "text/x-python",
   "name": "python",
   "nbconvert_exporter": "python",
   "pygments_lexer": "ipython3",
   "version": "3.7.1"
  }
 },
 "nbformat": 4,
 "nbformat_minor": 2
}
