{
 "cells": [
  {
   "cell_type": "code",
   "execution_count": 1,
   "metadata": {
    "collapsed": true
   },
   "outputs": [],
   "source": [
    "##Workbook to play around with Sigmoid neurons\n",
    "from scipy.special import expit\n",
    "import numpy as np\n",
    "class Sigmoid:\n",
    "    def __init__(self,weights,bias):\n",
    "        '''\n",
    "        Weights is expected to be an array of real numbers representing the weights\n",
    "        Bias is expected to be a real number quantifying how easy it is to return 1\n",
    "        '''\n",
    "        self.weights = weights\n",
    "        self.bias = bias\n",
    "    def evaluate(self, inputs):\n",
    "        self.out = expit(sum(self.weights*inputs) + self.bias)\n",
    "        return self.out\n",
    "    def outDelta(self,target):\n",
    "        self.delta = -1*(target - self.out) * self.out * (1- self.out)\n",
    "        return self.delta\n",
    "    def update(self,target, inputs,rate):\n",
    "        for k in range(len(self.weights)):\n",
    "            self.weights[k] -= rate * self.outDelta(target) * inputs[k]"
   ]
  },
  {
   "cell_type": "code",
   "execution_count": 14,
   "metadata": {},
   "outputs": [],
   "source": [
    "S1 = Sigmoid(np.array([1.0,1.0,1.0]),-1)\n",
    "training_set = [\n",
    "        [0.1,[1,0,0]],\n",
    "        [0.1,[0,1,0]],\n",
    "        [0.1,[0,0,1]],\n",
    "        [0.8,[1,0,1]],\n",
    "        [0.1,[1,1,0]],   \n",
    "        [0.8,[0,1,1]],\n",
    "        [0.8,[1,1,1]]\n",
    "    ]\n",
    "#Training set has response variable, 'do I read' which is determined by the input variables 'am I bored','it is late' and 'there is books'"
   ]
  },
  {
   "cell_type": "code",
   "execution_count": 42,
   "metadata": {},
   "outputs": [
    {
     "name": "stdout",
     "output_type": "stream",
     "text": [
      "-0.00025559526639242045\n",
      "-0.00025559526639242045\n",
      "-0.00025559526639242045\n",
      "-1.5142892097790989e-05\n",
      "-1.8925479855406145e-06\n",
      "-1.5142892097790989e-05\n",
      "-1.0863139958499013e-07\n"
     ]
    }
   ],
   "source": [
    "for i in training_set:\n",
    "    S1.evaluate(i[1])\n",
    "    print(S1.outDelta(i[0]))\n",
    "    "
   ]
  },
  {
   "cell_type": "code",
   "execution_count": 41,
   "metadata": {},
   "outputs": [
    {
     "name": "stdout",
     "output_type": "stream",
     "text": [
      "[-4.93738712 -4.93738712 -4.93738712]\n"
     ]
    }
   ],
   "source": [
    "#input nodes [[val,val,val],target]\n",
    "entry = []\n",
    "\n",
    "#processor node layer 1\n",
    "L1 = [S1]\n",
    "\n",
    "#potentially more processor nodes\n",
    "\n",
    "#output nodes\n",
    "exit = []\n",
    "\n",
    "\n",
    "#executing the training\n",
    "for t in range(10000):\n",
    "    for x in training_set:\n",
    "        target = i[0]\n",
    "        entry = i[1]\n",
    "        S1.update(target,entry,0.01)\n",
    "print(S1.weights)\n",
    "\n"
   ]
  },
  {
   "cell_type": "code",
   "execution_count": 43,
   "metadata": {},
   "outputs": [
    {
     "name": "stdout",
     "output_type": "stream",
     "text": [
      "b\n",
      "c\n"
     ]
    }
   ],
   "source": [
    "testo = ['a','b','c','d']\n",
    "for i in testo[1:-1]:\n",
    "    print(i)"
   ]
  },
  {
   "cell_type": "code",
   "execution_count": null,
   "metadata": {
    "collapsed": true
   },
   "outputs": [],
   "source": []
  },
  {
   "cell_type": "code",
   "execution_count": null,
   "metadata": {
    "collapsed": true
   },
   "outputs": [],
   "source": []
  }
 ],
 "metadata": {
  "anaconda-cloud": {},
  "kernelspec": {
   "display_name": "Python 3",
   "language": "python",
   "name": "python3"
  },
  "language_info": {
   "codemirror_mode": {
    "name": "ipython",
    "version": 3
   },
   "file_extension": ".py",
   "mimetype": "text/x-python",
   "name": "python",
   "nbconvert_exporter": "python",
   "pygments_lexer": "ipython3",
   "version": "3.7.1"
  }
 },
 "nbformat": 4,
 "nbformat_minor": 2
}
