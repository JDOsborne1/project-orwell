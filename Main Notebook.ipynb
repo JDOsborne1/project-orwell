{
 "cells": [
  {
   "cell_type": "code",
   "execution_count": 1,
   "metadata": {},
   "outputs": [],
   "source": [
    "# Calling the Core Classes"
   ]
  },
  {
   "cell_type": "code",
   "execution_count": 9,
   "metadata": {},
   "outputs": [],
   "source": [
    "run orwell_core.py\n"
   ]
  },
  {
   "cell_type": "code",
   "execution_count": 11,
   "metadata": {},
   "outputs": [],
   "source": [
    "##Defining the instances of the potentials and objects\n",
    "\n",
    "pots=[Potential('Grav',1,363,363,4),Potential('Radpres',1,363,363,3)]#formatting of z,y,x\n",
    "objs = []\n",
    "'''Simulating entities with outward pressure'''\n",
    "for j in range(0):\n",
    "    objs.append(Entity('Mount{}'.format(j),\n",
    "                       0,random.randint(0,363),random.randint(0,363),\n",
    "                       0,0,0,\n",
    "                       {'Grav':(0,0),'Radpres':(-random.random(),0)}))\n",
    "'''Simulating entities gravitating towards one another'''    \n",
    "for i in range(100):\n",
    "    objs.append(Entity('Person{}'.format(i),\n",
    "                       0,random.randint(0,363),random.randint(0,363),\n",
    "                       0,random.random()-1,random.random()-1,\n",
    "                       {'Grav':(random.random(),random.random())}))\n",
    "\n",
    "##"
   ]
  },
  {
   "cell_type": "code",
   "execution_count": 10,
   "metadata": {},
   "outputs": [],
   "source": [
    "# Get function"
   ]
  },
  {
   "cell_type": "code",
   "execution_count": 11,
   "metadata": {},
   "outputs": [],
   "source": [
    "run C:/Users/Joe/Documents/PythonLibrary/wizard-of-oz/get_function.py"
   ]
  },
  {
   "cell_type": "code",
   "execution_count": 10,
   "metadata": {},
   "outputs": [],
   "source": [
    "import random"
   ]
  },
  {
   "cell_type": "code",
   "execution_count": 12,
   "metadata": {},
   "outputs": [],
   "source": [
    "## Defining the objects with user input\n",
    "\n",
    "def create_object(potential_list):\n",
    "    name = get(\"Name Your Entity: \", str)\n",
    "    dynamics = [0,0,0,0,0,0]\n",
    "    attributes = ['z','y','x','zvel','yvel','xvel']\n",
    "    for j in range(len(attributes)):\n",
    "        dynamics[j] = get(attributes[j],float)\n",
    "    # elements to add in the force attributes\n",
    "    \n",
    "        \n",
    "            \n",
    "        "
   ]
  },
  {
   "cell_type": "code",
   "execution_count": 13,
   "metadata": {},
   "outputs": [],
   "source": [
    "##Running the sim\n",
    "steps=100\n",
    "for t in range(steps):\n",
    "    for p in pots:\n",
    "        p.update(objs,0.01)\n",
    "        for i in objs:\n",
    "            i.update(p,0.1)\n",
    "##\n"
   ]
  },
  {
   "cell_type": "code",
   "execution_count": 14,
   "metadata": {},
   "outputs": [
    {
     "ename": "NameError",
     "evalue": "name 'plt' is not defined",
     "output_type": "error",
     "traceback": [
      "\u001b[1;31m---------------------------------------------------------------------------\u001b[0m",
      "\u001b[1;31mNameError\u001b[0m                                 Traceback (most recent call last)",
      "\u001b[1;32m<ipython-input-14-5b1edfe60918>\u001b[0m in \u001b[0;36m<module>\u001b[1;34m\u001b[0m\n\u001b[0;32m      2\u001b[0m \u001b[1;32mfor\u001b[0m \u001b[0mi\u001b[0m \u001b[1;32min\u001b[0m \u001b[0mrange\u001b[0m\u001b[1;33m(\u001b[0m\u001b[0mlen\u001b[0m\u001b[1;33m(\u001b[0m\u001b[0mobjs\u001b[0m\u001b[1;33m)\u001b[0m\u001b[1;33m)\u001b[0m\u001b[1;33m:\u001b[0m\u001b[1;33m\u001b[0m\u001b[1;33m\u001b[0m\u001b[0m\n\u001b[0;32m      3\u001b[0m     \u001b[0mtest\u001b[0m \u001b[1;33m=\u001b[0m \u001b[0mobjs\u001b[0m\u001b[1;33m[\u001b[0m\u001b[0mi\u001b[0m\u001b[1;33m]\u001b[0m\u001b[1;33m.\u001b[0m\u001b[0mtrajectory\u001b[0m\u001b[1;33m.\u001b[0m\u001b[0mT\u001b[0m\u001b[1;33m\u001b[0m\u001b[1;33m\u001b[0m\u001b[0m\n\u001b[1;32m----> 4\u001b[1;33m     \u001b[0mplt\u001b[0m\u001b[1;33m.\u001b[0m\u001b[0mplot\u001b[0m\u001b[1;33m(\u001b[0m\u001b[0mtest\u001b[0m\u001b[1;33m[\u001b[0m\u001b[1;36m1\u001b[0m\u001b[1;33m]\u001b[0m\u001b[1;33m,\u001b[0m\u001b[0mtest\u001b[0m\u001b[1;33m[\u001b[0m\u001b[1;36m2\u001b[0m\u001b[1;33m]\u001b[0m\u001b[1;33m)\u001b[0m\u001b[1;33m\u001b[0m\u001b[1;33m\u001b[0m\u001b[0m\n\u001b[0m\u001b[0;32m      5\u001b[0m \u001b[0mplt\u001b[0m\u001b[1;33m.\u001b[0m\u001b[0mshow\u001b[0m\u001b[1;33m(\u001b[0m\u001b[1;33m)\u001b[0m\u001b[1;33m\u001b[0m\u001b[1;33m\u001b[0m\u001b[0m\n\u001b[0;32m      6\u001b[0m \u001b[1;31m##\u001b[0m\u001b[1;33m\u001b[0m\u001b[1;33m\u001b[0m\u001b[1;33m\u001b[0m\u001b[0m\n",
      "\u001b[1;31mNameError\u001b[0m: name 'plt' is not defined"
     ]
    }
   ],
   "source": [
    "##Trajectory plotting on static map\n",
    "for i in range(len(objs)):\n",
    "    test = objs[i].trajectory.T\n",
    "    plt.plot(test[1],test[2])\n",
    "plt.show()\n",
    "##"
   ]
  },
  {
   "cell_type": "code",
   "execution_count": null,
   "metadata": {},
   "outputs": [],
   "source": []
  },
  {
   "cell_type": "code",
   "execution_count": null,
   "metadata": {},
   "outputs": [],
   "source": [
    "objs[0].objective"
   ]
  },
  {
   "cell_type": "code",
   "execution_count": null,
   "metadata": {},
   "outputs": [],
   "source": [
    "delattr(objs[0],'objective')\n"
   ]
  },
  {
   "cell_type": "code",
   "execution_count": null,
   "metadata": {},
   "outputs": [],
   "source": [
    "objs[0].setQuest(np.array([0,8,12]),1)"
   ]
  },
  {
   "cell_type": "code",
   "execution_count": null,
   "metadata": {},
   "outputs": [],
   "source": [
    "#Test cases to determine the method of fatigue update\n",
    "'''\n",
    "xval = np.linspace(1,200,1000)\n",
    "maxcv = 50\n",
    "mediator = 0.1\n",
    "def f1(xval,maxcv):\n",
    "    rawout = xval - maxcv\n",
    "    return mediator * rawout\n",
    "def f2(xval,maxcv):\n",
    "    rawout = (xval/maxcv)-1\n",
    "    return mediator *rawout\n",
    "def f3(xval,maxcv):\n",
    "    rawout = ((xval-maxcv)/xval)\n",
    "    return mediator *rawout\n",
    "#plt.plot(xval,f1(xval,maxcv),label='Function 1')\n",
    "plt.plot(xval,f2(xval,maxcv),label='Function 2')\n",
    "plt.plot(xval,f3(xval,maxcv),label='Function 3')\n",
    "plt.legend(loc=0)\n",
    "plt.show()\n",
    "'''\n"
   ]
  },
  {
   "cell_type": "code",
   "execution_count": null,
   "metadata": {},
   "outputs": [],
   "source": [
    "'''\n",
    "class Structure(Entity):\n",
    "    def __init__(self):# the subcalss initialisation is broken, replace\n",
    "        super(Structure, self).__init__()\n",
    "    def update(self,pot,timestep):\n",
    "        pass\n",
    "'''"
   ]
  },
  {
   "cell_type": "code",
   "execution_count": null,
   "metadata": {},
   "outputs": [],
   "source": [
    "#objs[1].direct(np.array([0,15,15]),2)"
   ]
  },
  {
   "cell_type": "code",
   "execution_count": null,
   "metadata": {},
   "outputs": [],
   "source": [
    "'''        self.objective = np.array([0,0,0])\n",
    "        self.deter = 02\n",
    "\n",
    "        \n",
    "        if self.deter !=0:\n",
    "            self.vel = (self.objective-self.pos)*self.deter#This causes a velocity towards the objective with a direction which varies with the position but a constant velocity determined by the determination\n",
    "            self.deter *=0.9\n",
    "        else:\n",
    "            pass\n",
    "'''"
   ]
  },
  {
   "cell_type": "code",
   "execution_count": null,
   "metadata": {},
   "outputs": [],
   "source": [
    "'''\n",
    "Theorise that a redesign using a system of updateing only the areas of the potential which will be affected noticably, and have the update type be applying a calculated difference.\n",
    "'''\n",
    "\n",
    "'''\n",
    "suggested effciency move to not run the update code where the change would be minimal. calculate the range at which the gaussian topography becaomes effectively zero and just ignore those co-ordinates when updating. \n",
    "the magnitude of the change depends on the magnitude of the vecotr of differences in position. a constraint on that vector defines a sphere of non-sero affectation. \n",
    "\n",
    "the radius wil be defined by the object's gravitas and the range of the force. in the form of gravitas x exponential of 1/ twice the square of the range. this will be a positive value, which will be exponentially damped by the negative exponent of the magnitude of the difference in position. there will be a criteria where a given radius is sufficient to damp the function almost entirely to zero.\n",
    "\n",
    "calculated for this test as the force power of 1/2 which comes from both the range and the gravitas parameters being defined as 1 for the test. it is then 1/2 * exp(-r**2) where r is the variable describing the magnitude of the positional difference. for a threshold of 1x10^-4 the inequality is then when fp*exp(-r**2) < 1x10^-4 which will be calculate by had to prduce a formula for a general force power\n",
    "\n",
    "'''"
   ]
  },
  {
   "cell_type": "code",
   "execution_count": null,
   "metadata": {},
   "outputs": [],
   "source": [
    "'''\n",
    "for i in range(len(objs)):\n",
    "    np.savetxt('C:\\\\Users\\\\theos\\\\Dropbox\\\\Documents\\\\PythonLibrary\\\\ProjectOrwell\\\\trajectory{}.csv'.format(i),objs[i].trajectory,delimiter=',',newline='\\n')\n",
    "'''"
   ]
  },
  {
   "cell_type": "code",
   "execution_count": null,
   "metadata": {},
   "outputs": [],
   "source": [
    "'''implement looping for the potential projection so that when looped the objects can still feel theforces on the other wside of the loop'''\n"
   ]
  },
  {
   "cell_type": "code",
   "execution_count": null,
   "metadata": {},
   "outputs": [],
   "source": [
    "'''Sensitivity scale test\n",
    "plt.plot(np.log(np.linspace(0.001,10,100))-np.log(1e-4),label='e-4 sensitivity')\n",
    "plt.plot(np.log(np.linspace(0.001,10,100))-np.log(1e-5),label='e-5 sensitivity')\n",
    "plt.plot(np.log(np.linspace(0.001,10,100))-np.log(1e-6),label='e-5 sensitivity')\n",
    "plt.xlabel('Force Power')\n",
    "plt.ylabel('Radius squared where change is non-zero')\n",
    "plt.legend()\n",
    "plt.show()\n",
    "'''"
   ]
  }
 ],
 "metadata": {
  "anaconda-cloud": {},
  "kernelspec": {
   "display_name": "Python 3",
   "language": "python",
   "name": "python3"
  },
  "language_info": {
   "codemirror_mode": {
    "name": "ipython",
    "version": 3
   },
   "file_extension": ".py",
   "mimetype": "text/x-python",
   "name": "python",
   "nbconvert_exporter": "python",
   "pygments_lexer": "ipython3",
   "version": "3.7.2"
  },
  "toc": {
   "base_numbering": 1,
   "nav_menu": {
    "height": "288px",
    "width": "404px"
   },
   "number_sections": false,
   "sideBar": false,
   "skip_h1_title": false,
   "title_cell": "Table of Contents",
   "title_sidebar": "Contents",
   "toc_cell": false,
   "toc_position": {},
   "toc_section_display": false,
   "toc_window_display": false
  }
 },
 "nbformat": 4,
 "nbformat_minor": 2
}
