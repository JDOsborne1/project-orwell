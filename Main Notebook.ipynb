{
 "cells": [
  {
   "cell_type": "code",
   "execution_count": 1,
   "metadata": {},
   "outputs": [
    {
     "data": {
      "application/javascript": [
       "require.undef(\"nbextensions/vpython_libraries/glow.min\");"
      ],
      "text/plain": [
       "<IPython.core.display.Javascript object>"
      ]
     },
     "metadata": {},
     "output_type": "display_data"
    },
    {
     "data": {
      "application/javascript": [
       "require.undef(\"nbextensions/vpython_libraries/glowcomm\");"
      ],
      "text/plain": [
       "<IPython.core.display.Javascript object>"
      ]
     },
     "metadata": {},
     "output_type": "display_data"
    },
    {
     "data": {
      "application/javascript": [
       "require.undef(\"nbextensions/vpython_libraries/jquery-ui.custom.min\");"
      ],
      "text/plain": [
       "<IPython.core.display.Javascript object>"
      ]
     },
     "metadata": {},
     "output_type": "display_data"
    },
    {
     "data": {
      "application/javascript": [
       "require([\"nbextensions/vpython_libraries/glow.min\"], function(){console.log(\"GLOW LOADED\");})"
      ],
      "text/plain": [
       "<IPython.core.display.Javascript object>"
      ]
     },
     "metadata": {},
     "output_type": "display_data"
    },
    {
     "data": {
      "application/javascript": [
       "require([\"nbextensions/vpython_libraries/glowcomm\"], function(){console.log(\"GLOWCOMM LOADED\");})"
      ],
      "text/plain": [
       "<IPython.core.display.Javascript object>"
      ]
     },
     "metadata": {},
     "output_type": "display_data"
    },
    {
     "data": {
      "application/javascript": [
       "require([\"nbextensions/vpython_libraries/jquery-ui.custom.min\"], function(){console.log(\"JQUERY LOADED\");})"
      ],
      "text/plain": [
       "<IPython.core.display.Javascript object>"
      ]
     },
     "metadata": {},
     "output_type": "display_data"
    },
    {
     "data": {
      "text/html": [
       "<div id=\"glowscript\" class=\"glowscript\"></div>"
      ],
      "text/plain": [
       "<IPython.core.display.HTML object>"
      ]
     },
     "metadata": {},
     "output_type": "display_data"
    },
    {
     "data": {
      "application/javascript": [
       "window.__context = { glowscript_container: $(\"#glowscript\").removeAttr(\"id\")}"
      ],
      "text/plain": [
       "<IPython.core.display.Javascript object>"
      ]
     },
     "metadata": {},
     "output_type": "display_data"
    }
   ],
   "source": [
    "###Project Orwell Main file\n",
    "##Synopsis\n",
    "#Script containing the core mechanics for the project, including the representation of people, objects and structures as distinct classes which use data structures and methods to simulate elements of life. With location and velocity being updated by physical accelerations provided by the environment, and things like emotions and ideologies being updated by mental accelerations provided by the environment.\n",
    "##\n",
    "##Imports\n",
    "import numpy as np\n",
    "import vpython as vp\n",
    "import matplotlib.pyplot as plt\n",
    "import random\n",
    "##\n",
    "def norm(vector):\n",
    "    return vector/np.linalg.norm(vector)\n",
    "##defining the classes and their methods\n",
    "#beginning with objects, which are the general class, with only physical accelerations, and the other classes can be subclasses of objects\n",
    "class Entity:\n",
    "    def __init__(self,name,z,y,x,velz,vely,velx,forces):#grav, inter, pos and vel are lists. pos and vel are 3vectors, args are expected to be a set of tuples of the gravitas' and interaction strength's of the object on the set of potentials paired with a dictionary of the potentials names.\n",
    "        self.x = x#calling the x,y,z components of the entity's position will return the integer values of the co-ordinates of the object on the raster map\n",
    "        self.y = y\n",
    "        self.z = z\n",
    "        self.name = name\n",
    "        self.vel = np.array([velz,vely,velx],dtype='float64')\n",
    "        self.pos = np.array([z,y,x],dtype='float64')\n",
    "        self.rpos=self.pos.astype(int)\n",
    "        self.forces = forces\n",
    "        self.trajectory = self.pos# want to create a 2 dimensional array, with the vector of the position as one dimension and then the time of occurance as another.\n",
    "\n",
    "    \n",
    "    def update(self,pot,timestep):\n",
    "        '''looks to find the potential at the six points on the field adjacent to the objects position'''\n",
    "        try:#to find the direction vector of the force experienced by the object. Uses a set of tuples as the field indexes and wraps them according to the shape of the field\n",
    "            r_=np.array([pot.field[tuple((self.rpos)%pot.field.shape[0])]-pot.field[tuple((self.rpos)%pot.field.shape[0])],\n",
    "          pot.field[tuple((self.rpos+(0,1,0))%pot.field.shape[1])]-pot.field[tuple((self.rpos+(0,-1,0))%pot.field.shape[1])],\n",
    "          pot.field[tuple((self.rpos+(0,0,1))%pot.field.shape[2])]-pot.field[tuple((self.rpos+(0,0,-1))%pot.field.shape[2])]])\n",
    "        except IndexError:\n",
    "            r_=np.zeros(3)\n",
    "            print('indexerror')\n",
    "        acc=self.forces[pot.name][1]*-1*r_\n",
    "        self.pos += timestep * self.vel\n",
    "        self.pos %= 40\n",
    "        self.rpos=self.pos.astype(int)\n",
    "        self.vel *=0.97\n",
    "        self.vel += timestep * acc\n",
    "        self.z,self.y,self.x = self.rpos[0],self.rpos[1],self.rpos[2]\n",
    "        self.trajectory = np.vstack([self.trajectory, self.pos])# want to make the trajectory be appended by the most recen position after each update, therefore creating acomplete record of the positoon of the pbject at each timestep. \n",
    "    def direct(self,objective,deter):\n",
    "        self.objective = objective\n",
    "        self.deter = deter\n",
    "        \n",
    "class Structure(Entity):\n",
    "    def __init__(self):# the subcalss initialisation is broken, replace\n",
    "        super(Structure, self).__init__()\n",
    "    def update(self,pot,timestep):\n",
    "        pass\n",
    "class Potential:#this defines the class of potentials, this was used to both conform with the general style of oop for the rest of the project and so that the unique evaluation method can be defined\n",
    "    def __init__(self,name,dimz,dimy,dimx,width):#defines the potential's name, initial dimensions, and the width parameter describing its range.\n",
    "        self.name = name\n",
    "        self.field = np.zeros((dimz,dimy,dimx))\n",
    "        self.width = width\n",
    "    def rangetest(self,entity,sensitivity):\n",
    "        gravitas = np.abs(entity.forces[self.name][0])\n",
    "        if gravitas != 0: #cannot permit zero in the cases where a field has no range, and cannot be less than zero as it would be if it wouldnt be detected at the specified level at any range.\n",
    "            maxrangesquared = 2*(self.width**2)*(np.log(gravitas)-np.log(sensitivity))\n",
    "        else:\n",
    "            maxrangesquared = 0.0\n",
    "        if maxrangesquared > 0:\n",
    "            maxrange= np.sqrt(maxrangesquared)\n",
    "        else:\n",
    "            maxrange = 0\n",
    "        return maxrange\n",
    "    def update(self,i,ran):#i is an list of object, which is generating a field of that potential type\n",
    "        self.field = np.zeros(np.shape(self.field))\n",
    "        for j in i:\n",
    "            r_raw=self.rangetest(j,ran)#gets the raw, floating value of the range limitation from the rangetest method\n",
    "            r = int(round(r_raw))#rounds the value to the nearest integer and uses that as the criteria to create the cube of acceptable values\n",
    "            for z in range(0,1):\n",
    "                for y in range(j.y - r,j.y + r+1):#remember to include the z range variance once working with 3d variables\n",
    "                    for x in range(j.x - r,j.x + r+1):\n",
    "                        rp_mag = np.linalg.norm(np.array([x-j.x,y-j.y,z-j.z]))#fins the magnitude of the difference vector between the raised co-ordinates and the co-ordinates of the entity in question\n",
    "                        if rp_mag<r_raw:#implements the further limits on the cube of acceptable values to create the sphere of acceptable values\n",
    "                            try:\n",
    "                                self.field[z,y,x] -= j.forces[self.name][0]*np.exp(-1*pow(rp_mag,2)/(2*pow(self.width,2)))#calls up the value at those co-ords and updates it withthe new calculation\n",
    "                            except IndexError:\n",
    "                                continue\n",
    "                        else:\n",
    "                            continue\n",
    "##\n"
   ]
  },
  {
   "cell_type": "code",
   "execution_count": 2,
   "metadata": {},
   "outputs": [],
   "source": [
    "##Defining the Potential spaces for the accelerations\n",
    "\n",
    "pots=[Potential('Grav',1,40,40,4),Potential('Radpres',1,40,40,3)]#formatting of z,y,x\n",
    "objs = [Entity('test1',0,15,17,0,0.4,0.05,{'Grav':(0.5,0),'Radpres':(-1,0)}),\n",
    "        Entity('test2',0,16,17,0,0.3,0.025,{'Grav':(0.5,0),'Radpres':(-1,0)}),\n",
    "        Entity('test3',0,15,16,0,0.2,0.1,{'Grav':(0.5,0),'Radpres':(-1,0)}),\n",
    "        Entity('test4',0,16,16,0,0.1,0,{'Grav':(0.5,0),'Radpres':(-1,0)})]\n",
    "'''Simulating entities with outward pressure'''\n",
    "for j in range(0):\n",
    "    objs.append(Entity('Mount{}'.format(j),\n",
    "                       0,random.randint(0,40),random.randint(0,40),\n",
    "                       0,0,0,\n",
    "                       {'Grav':(0,0),'Radpres':(-random.random(),0)}))\n",
    "'''Simulating entities gravitating towards one another'''    \n",
    "for i in range(0):\n",
    "    objs.append(Entity('Person{}'.format(i),\n",
    "                       0,random.randint(0,40),random.randint(0,40),\n",
    "                       0,random.random()-1,random.random()-1,\n",
    "                       {'Grav':(random.random(),random.random()),'Radpres':(0,0.1)}))\n",
    "\t\t\t\n",
    "\n",
    "\n",
    "##\n",
    "##Running the sim\n",
    "steps=2000\n",
    "for t in range(steps):\n",
    "    for p in pots:\n",
    "        p.update(objs,0.01)\n",
    "        for i in objs:\n",
    "            i.update(p,0.1)\n",
    "##\n",
    "\n"
   ]
  },
  {
   "cell_type": "code",
   "execution_count": 3,
   "metadata": {},
   "outputs": [],
   "source": []
  },
  {
   "cell_type": "code",
   "execution_count": 4,
   "metadata": {},
   "outputs": [
    {
     "data": {
      "image/png": "[encoded data removed]",
      "text/plain": [
       "<Figure size 432x288 with 1 Axes>"
      ]
     },
     "metadata": {},
     "output_type": "display_data"
    }
   ],
   "source": [
    "'''Trajectory plotting on static map'''\n",
    "for i in range(len(objs)):\n",
    "    test = objs[i].trajectory.T\n",
    "    plt.plot(test[1],test[2])\n",
    "plt.show()"
   ]
  },
  {
   "cell_type": "code",
   "execution_count": 11,
   "metadata": {},
   "outputs": [
    {
     "data": {
      "text/html": [
       "<div id=\"glowscript\" class=\"glowscript\"></div>"
      ],
      "text/plain": [
       "<IPython.core.display.HTML object>"
      ]
     },
     "metadata": {},
     "output_type": "display_data"
    },
    {
     "data": {
      "application/javascript": [
       "window.__context = { glowscript_container: $(\"#glowscript\").removeAttr(\"id\")}"
      ],
      "text/plain": [
       "<IPython.core.display.Javascript object>"
      ]
     },
     "metadata": {},
     "output_type": "display_data"
    }
   ],
   "source": [
    "'''Trajectory plotting with visualisation'''\n",
    "scene = vp.canvas(center= vp.vector(15,15,0),scale=15)\n",
    "balls = []\n",
    "for o in objs:\n",
    "    balls.append(vp.sphere(pos=vp.vector(o.trajectory[0][2],o.trajectory[0][1],o.trajectory[0][0]),\n",
    "                           radius=0.1,\n",
    "                           make_trail=True,\n",
    "                           retain=50,\n",
    "                           interval=10,\n",
    "                           trail_type=\"points\"))\n",
    "\n",
    "\n",
    "for t in range(steps):\n",
    "    for o,b in zip(objs,balls):\n",
    "        b.pos=vp.vector(o.trajectory[t][2],\n",
    "                        o.trajectory[t][1],\n",
    "                        o.trajectory[t][0])\n",
    "    vp.rate(50)"
   ]
  },
  {
   "cell_type": "code",
   "execution_count": 5,
   "metadata": {},
   "outputs": [],
   "source": [
    "#objs[1].direct(np.array([0,15,15]),2)\n"
   ]
  },
  {
   "cell_type": "code",
   "execution_count": 6,
   "metadata": {},
   "outputs": [
    {
     "name": "stdout",
     "output_type": "stream",
     "text": [
      "ERROR! Session/line number was not unique in database. History logging moved to new session 192\n"
     ]
    },
    {
     "data": {
      "text/plain": [
       "'        self.objective = np.array([0,0,0])\\n        self.deter = 02\\n\\n        \\n        if self.deter !=0:\\n            self.vel = (self.objective-self.pos)*self.deter#This causes a velocity towards the objective with a direction which varies with the position but a constant velocity determined by the determination\\n            self.deter *=0.9\\n        else:\\n            pass\\n'"
      ]
     },
     "execution_count": 6,
     "metadata": {},
     "output_type": "execute_result"
    }
   ],
   "source": [
    "'''        self.objective = np.array([0,0,0])\n",
    "        self.deter = 02\n",
    "\n",
    "        \n",
    "        if self.deter !=0:\n",
    "            self.vel = (self.objective-self.pos)*self.deter#This causes a velocity towards the objective with a direction which varies with the position but a constant velocity determined by the determination\n",
    "            self.deter *=0.9\n",
    "        else:\n",
    "            pass\n",
    "'''"
   ]
  },
  {
   "cell_type": "code",
   "execution_count": null,
   "metadata": {},
   "outputs": [],
   "source": []
  },
  {
   "cell_type": "code",
   "execution_count": null,
   "metadata": {},
   "outputs": [],
   "source": []
  },
  {
   "cell_type": "code",
   "execution_count": null,
   "metadata": {},
   "outputs": [],
   "source": []
  },
  {
   "cell_type": "code",
   "execution_count": null,
   "metadata": {},
   "outputs": [],
   "source": []
  },
  {
   "cell_type": "code",
   "execution_count": 7,
   "metadata": {},
   "outputs": [
    {
     "data": {
      "text/plain": [
       "\"\\nsuggested effciency move to not run the update code where the change would be minimal. calculate the range at which the gaussian topography becaomes effectively zero and just ignore those co-ordinates when updating. \\nthe magnitude of the change depends on the magnitude of the vecotr of differences in position. a constraint on that vector defines a sphere of non-sero affectation. \\n\\nthe radius wil be defined by the object's gravitas and the range of the force. in the form of gravitas x exponential of 1/ twice the square of the range. this will be a positive value, which will be exponentially damped by the negative exponent of the magnitude of the difference in position. there will be a criteria where a given radius is sufficient to damp the function almost entirely to zero.\\n\\ncalculated for this test as the force power of 1/2 which comes from both the range and the gravitas parameters being defined as 1 for the test. it is then 1/2 * exp(-r**2) where r is the variable describing the magnitude of the positional difference. for a threshold of 1x10^-4 the inequality is then when fp*exp(-r**2) < 1x10^-4 which will be calculate by had to prduce a formula for a general force power\\n\\n\""
      ]
     },
     "execution_count": 7,
     "metadata": {},
     "output_type": "execute_result"
    }
   ],
   "source": [
    "'''\n",
    "Theorise that a redesign using a system of updateing only the areas of the potential which will be affected noticably, and have the update type be applying a calculated difference.\n",
    "'''\n",
    "\n",
    "'''\n",
    "suggested effciency move to not run the update code where the change would be minimal. calculate the range at which the gaussian topography becaomes effectively zero and just ignore those co-ordinates when updating. \n",
    "the magnitude of the change depends on the magnitude of the vecotr of differences in position. a constraint on that vector defines a sphere of non-sero affectation. \n",
    "\n",
    "the radius wil be defined by the object's gravitas and the range of the force. in the form of gravitas x exponential of 1/ twice the square of the range. this will be a positive value, which will be exponentially damped by the negative exponent of the magnitude of the difference in position. there will be a criteria where a given radius is sufficient to damp the function almost entirely to zero.\n",
    "\n",
    "calculated for this test as the force power of 1/2 which comes from both the range and the gravitas parameters being defined as 1 for the test. it is then 1/2 * exp(-r**2) where r is the variable describing the magnitude of the positional difference. for a threshold of 1x10^-4 the inequality is then when fp*exp(-r**2) < 1x10^-4 which will be calculate by had to prduce a formula for a general force power\n",
    "\n",
    "'''"
   ]
  },
  {
   "cell_type": "code",
   "execution_count": 8,
   "metadata": {},
   "outputs": [
    {
     "data": {
      "text/plain": [
       "\"\\nfor i in range(len(objs)):\\n    np.savetxt('C:\\\\Users\\\\theos\\\\Dropbox\\\\Documents\\\\PythonLibrary\\\\ProjectOrwell\\\\trajectory{}.csv'.format(i),objs[i].trajectory,delimiter=',',newline='\\n')\\n\""
      ]
     },
     "execution_count": 8,
     "metadata": {},
     "output_type": "execute_result"
    }
   ],
   "source": [
    "'''\n",
    "for i in range(len(objs)):\n",
    "    np.savetxt('C:\\\\Users\\\\theos\\\\Dropbox\\\\Documents\\\\PythonLibrary\\\\ProjectOrwell\\\\trajectory{}.csv'.format(i),objs[i].trajectory,delimiter=',',newline='\\n')\n",
    "'''"
   ]
  },
  {
   "cell_type": "code",
   "execution_count": 9,
   "metadata": {},
   "outputs": [
    {
     "data": {
      "text/plain": [
       "'implement looping for the potential projection so that when looped the objects can still feel theforces on the other wside of the loop'"
      ]
     },
     "execution_count": 9,
     "metadata": {},
     "output_type": "execute_result"
    }
   ],
   "source": [
    "'''implement looping for the potential projection so that when looped the objects can still feel theforces on the other wside of the loop'''\n"
   ]
  },
  {
   "cell_type": "code",
   "execution_count": 10,
   "metadata": {},
   "outputs": [
    {
     "data": {
      "text/plain": [
       "\"Sensitivity scale test\\nplt.plot(np.log(np.linspace(0.001,10,100))-np.log(1e-4),label='e-4 sensitivity')\\nplt.plot(np.log(np.linspace(0.001,10,100))-np.log(1e-5),label='e-5 sensitivity')\\nplt.plot(np.log(np.linspace(0.001,10,100))-np.log(1e-6),label='e-5 sensitivity')\\nplt.xlabel('Force Power')\\nplt.ylabel('Radius squared where change is non-zero')\\nplt.legend()\\nplt.show()\\n\""
      ]
     },
     "execution_count": 10,
     "metadata": {},
     "output_type": "execute_result"
    }
   ],
   "source": [
    "'''Sensitivity scale test\n",
    "plt.plot(np.log(np.linspace(0.001,10,100))-np.log(1e-4),label='e-4 sensitivity')\n",
    "plt.plot(np.log(np.linspace(0.001,10,100))-np.log(1e-5),label='e-5 sensitivity')\n",
    "plt.plot(np.log(np.linspace(0.001,10,100))-np.log(1e-6),label='e-5 sensitivity')\n",
    "plt.xlabel('Force Power')\n",
    "plt.ylabel('Radius squared where change is non-zero')\n",
    "plt.legend()\n",
    "plt.show()\n",
    "'''"
   ]
  }
 ],
 "metadata": {
  "kernelspec": {
   "display_name": "Python 3",
   "language": "python",
   "name": "python3"
  },
  "language_info": {
   "codemirror_mode": {
    "name": "ipython",
    "version": 3
   },
   "file_extension": ".py",
   "mimetype": "text/x-python",
   "name": "python",
   "nbconvert_exporter": "python",
   "pygments_lexer": "ipython3",
   "version": "3.7.0"
  }
 },
 "nbformat": 4,
 "nbformat_minor": 2
}
