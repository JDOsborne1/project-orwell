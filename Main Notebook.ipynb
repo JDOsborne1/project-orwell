{
 "cells": [
  {
   "cell_type": "code",
   "execution_count": 99,
   "metadata": {
    "collapsed": false
   },
   "outputs": [],
   "source": [
    "###Project Orwell Main file\n",
    "##Synopsis\n",
    "'''\n",
    "Script containing the core mechanics for the project, including the representation of people, objects and structures as \n",
    "distinct classes which use data structures and methods to simulate elements of life. With location and velocity being \n",
    "updated by physical accelerations provided by the environment, and things like emotions and ideologies being updated by\n",
    "mental accelerations provided by the environment.\n",
    "'''\n",
    "##\n",
    "##Imports\n",
    "import numpy as np\n",
    "import vpython as vp\n",
    "import matplotlib.pyplot as plt\n",
    "import random\n",
    "##\n",
    "##Function and Class definitions\n",
    "#defining a custom normalization function, if a more efficient solution is found, then it can simply be inserted here, no upset\n",
    "def norm(vector):\n",
    "    return vector/np.linalg.norm(vector)\n",
    "#\n",
    "\n",
    "class Entity:\n",
    "    '''\n",
    "    defining the principle class of the objects simulated in the program, these are currently synonymous with the 'people'\n",
    "    '''\n",
    "    def __init__(self,name,z,y,x,velz,vely,velx,forces,maxcv=0.5):\n",
    "        '''\n",
    "        grav, inter, pos and vel are lists. pos and vel are 3vectors, args are expected to be a set of tuples of the gravitas' \n",
    "        and interaction strength's of the object on the set of potentials paired with a dictionary of the potentials names.\n",
    "        calling the x,y,z components of the entity's position will return the integer values of the co-ordinates of the object \n",
    "        on the raster map.\n",
    "        want to create a 2 dimensional array, with the vector of the position as one dimension and then the time of occurance \n",
    "        as another.\n",
    "        the fatigue represents the object's tiredness with moving at it current pace. it will grow whenever it is moving above\n",
    "        the max comfortable pace and decay whenever it is below. \n",
    "        '''\n",
    "        self.x = x\n",
    "        self.y = y\n",
    "        self.z = z\n",
    "        self.name = name\n",
    "        self.vel = np.array([velz,vely,velx],dtype='float64')\n",
    "        self.pos = np.array([z,y,x],dtype='float64')\n",
    "        self.rpos=self.pos.astype(int)\n",
    "        self.forces = forces\n",
    "        self.trajectory = self.pos\n",
    "        self.fatigue = 0\n",
    "        self.maxcv = maxcv\n",
    "    def getForces(self,potname):\n",
    "        '''Function which gets the forces tuple for the specified potential if it exists'''\n",
    "        try:\n",
    "            return self.forces[potname]\n",
    "        except KeyError:\n",
    "            return 0,0\n",
    "    def update(self,pot,timestep):\n",
    "        '''looks to find the potential at the six points on the field adjacent to the objects position\n",
    "        initially tries to find the direction vector of the force experienced by the object. Uses a set of tuples as the \n",
    "        field indexes and wraps them according to the shape of the field\n",
    "        once successful it then stacks the new position onto the trajectory matrix, extending it and thus recording the \n",
    "        positition at that time interval.\n",
    "        '''\n",
    "        try:\n",
    "            r_=np.array([pot.field[tuple((self.rpos)%pot.field.shape[0])]-pot.field[tuple((self.rpos)%pot.field.shape[0])],pot.field[tuple((self.rpos+(0,1,0))%pot.field.shape[1])]-pot.field[tuple((self.rpos+(0,-1,0))%pot.field.shape[1])],pot.field[tuple((self.rpos+(0,0,1))%pot.field.shape[2])]-pot.field[tuple((self.rpos+(0,0,-1))%pot.field.shape[2])]])\n",
    "        except IndexError:\n",
    "            r_=np.zeros(3)\n",
    "            print('indexerror')\n",
    "        acc=self.getForces(pot.name)[1]*-1*r_\n",
    "        self.pos += timestep * self.vel\n",
    "        self.pos %= 40\n",
    "        self.rpos=self.pos.astype(int)\n",
    "        self.fatigueupdate()\n",
    "        self.vel *= 1-self.fatigue\n",
    "        self.vel += timestep * acc\n",
    "        self.z,self.y,self.x = self.rpos[0],self.rpos[1],self.rpos[2]\n",
    "        self.trajectory = np.vstack([self.trajectory, self.pos])\n",
    "    def fatigueupdate(self):\n",
    "        self.fatigue += (np.linalg.norm(self.vel)/self.maxcv) -1\n",
    "        if self.fatigue > 1:\n",
    "            self.fatigue = 1\n",
    "        elif self.fatigue <0:\n",
    "            self.fatigue = 0\n",
    "             \n",
    "    def direct(self,objective,deter):\n",
    "        '''Function which introduces a directive to the object'''\n",
    "        self.objective = objective # the location of the objective\n",
    "        self.deter = deter # the drive/determination of the entity to get to the objective\n",
    "class Potential:\n",
    "    '''this defines the class of potentials, this was used to both conform with the general style of oop for the rest of the project \n",
    "    and so that the unique evaluation method can be defined '''\n",
    "    def __init__(self,name,dimz,dimy,dimx,width):\n",
    "        '''\n",
    "        defines the potential's name, initial dimensions, and the width parameter describing its range.\n",
    "        '''\n",
    "        self.name = name\n",
    "        self.field = np.zeros((dimz,dimy,dimx))\n",
    "        self.width = width\n",
    "    def rangetest(self,entity,sensitivity):\n",
    "        '''\n",
    "        cannot permit zero in the cases where a field has no range, and cannot be less than zero as it would be \n",
    "        if it wouldnt be detected at the specified level at any range.\n",
    "        '''\n",
    "        gravitas = np.abs(entity.getForces(self.name)[0])\n",
    "        if gravitas != 0:\n",
    "            maxrangesquared = 2*(self.width**2)*(np.log(gravitas)-np.log(sensitivity))\n",
    "        else:\n",
    "            maxrangesquared = 0.0\n",
    "        if maxrangesquared > 0:\n",
    "            maxrange= np.sqrt(maxrangesquared)\n",
    "        else:    \n",
    "            maxrange = 0\n",
    "        return maxrange\n",
    "    def update(self,i,ran):\n",
    "        '''i is an list of object, which is generating a field of that potential type\n",
    "        First gets the raw, floating value of the range limitation from the rangetest method\n",
    "        then rounds the value to the nearest integer and uses that as the criteria to create the cube of acceptable values\n",
    "        then finds the magnitude of the difference vector between the raised co-ordinates and the co-ordinates of the entity \n",
    "        in question\n",
    "        then implements the further limits on the cube of acceptable values to create the sphere of acceptable values\n",
    "        then for each value in that sphere it calls up the value at those co-ords and updates it withthe new calculation                \n",
    "        '''        \n",
    "        self.field = np.zeros(np.shape(self.field))\n",
    "        for j in i:\n",
    "            r_raw=self.rangetest(j,ran)\n",
    "            r = int(round(r_raw))\n",
    "            for z in range(0,1):\n",
    "                for y in range(j.y - r,j.y + r+1):#include the z range variance once working with 3d variables            \n",
    "                    for x in range(j.x - r,j.x + r+1):\n",
    "                        rp_mag = np.linalg.norm(np.array([x-j.x,y-j.y,z-j.z]))\n",
    "                        if rp_mag<r_raw:\n",
    "                            try:\n",
    "                                self.field[z,y,x] -= j.getForces(self.name)[0]*np.exp(-1*pow(rp_mag,2)/(2*pow(self.width,2)))\n",
    "                            except IndexError:\n",
    "                                continue\n",
    "                        else:\n",
    "                            continue\n",
    "##\n"
   ]
  },
  {
   "cell_type": "code",
   "execution_count": 100,
   "metadata": {
    "collapsed": false
   },
   "outputs": [],
   "source": [
    "##Defining the instances of the potentials and objects\n",
    "\n",
    "pots=[Potential('Grav',1,40,40,4),Potential('Radpres',1,40,40,3)]#formatting of z,y,x\n",
    "objs = []\n",
    "'''Simulating entities with outward pressure'''\n",
    "for j in range(0):\n",
    "    objs.append(Entity('Mount{}'.format(j),\n",
    "                       0,random.randint(0,40),random.randint(0,40),\n",
    "                       0,0,0,\n",
    "                       {'Grav':(0,0),'Radpres':(-random.random(),0)}))\n",
    "'''Simulating entities gravitating towards one another'''    \n",
    "for i in range(5):\n",
    "    objs.append(Entity('Person{}'.format(i),\n",
    "                       0,random.randint(0,40),random.randint(0,40),\n",
    "                       0,random.random()-1,random.random()-1,\n",
    "                       {'Grav':(random.random(),random.random())}))\n",
    "\n",
    "##\n",
    "\n",
    "\n"
   ]
  },
  {
   "cell_type": "code",
   "execution_count": 101,
   "metadata": {
    "collapsed": false
   },
   "outputs": [],
   "source": [
    "##Running the sim\n",
    "steps=1000\n",
    "for t in range(steps):\n",
    "    for p in pots:\n",
    "        p.update(objs,0.01)\n",
    "        for i in objs:\n",
    "            i.update(p,0.1)\n",
    "##\n"
   ]
  },
  {
   "cell_type": "code",
   "execution_count": 102,
   "metadata": {
    "collapsed": false
   },
   "outputs": [
    {
     "data": {
      "image/png": "[encoded data removed]",
      "text/plain": [
       "<matplotlib.figure.Figure at 0x1fe27a6a9b0>"
      ]
     },
     "metadata": {},
     "output_type": "display_data"
    }
   ],
   "source": [
    "##Trajectory plotting on static map\n",
    "for i in range(len(objs)):\n",
    "    test = objs[i].trajectory.T\n",
    "    plt.plot(test[1],test[2])\n",
    "plt.show()\n",
    "##"
   ]
  },
  {
   "cell_type": "code",
   "execution_count": 103,
   "metadata": {
    "collapsed": false
   },
   "outputs": [
    {
     "data": {
      "text/html": [
       "<div id=\"glowscript\" class=\"glowscript\"></div>"
      ],
      "text/plain": [
       "<IPython.core.display.HTML object>"
      ]
     },
     "metadata": {},
     "output_type": "display_data"
    },
    {
     "data": {
      "application/javascript": [
       "window.__context = { glowscript_container: $(\"#glowscript\").removeAttr(\"id\")}"
      ],
      "text/plain": [
       "<IPython.core.display.Javascript object>"
      ]
     },
     "metadata": {},
     "output_type": "display_data"
    }
   ],
   "source": [
    "##Trajectory plotting with visualisation\n",
    "scene = vp.canvas(center= vp.vector(15,15,0),scale=15)\n",
    "balls = []\n",
    "for o in objs:\n",
    "    balls.append(vp.sphere(pos=vp.vector(o.trajectory[0][2],o.trajectory[0][1],o.trajectory[0][0]),\n",
    "                           radius=0.1,\n",
    "                           make_trail=True,\n",
    "                           retain=50,\n",
    "                           interval=10,\n",
    "                           trail_type=\"points\"))\n",
    "\n",
    "\n",
    "for t in range(steps):\n",
    "    for o,b in zip(objs,balls):\n",
    "        b.pos=vp.vector(o.trajectory[t][2],\n",
    "                        o.trajectory[t][1],\n",
    "                        o.trajectory[t][0])\n",
    "    vp.rate(50)\n",
    "##"
   ]
  },
  {
   "cell_type": "code",
   "execution_count": 84,
   "metadata": {
    "collapsed": false
   },
   "outputs": [
    {
     "data": {
      "text/plain": [
       "0"
      ]
     },
     "execution_count": 84,
     "metadata": {},
     "output_type": "execute_result"
    }
   ],
   "source": [
    "objs[3].fatigue\n"
   ]
  },
  {
   "cell_type": "code",
   "execution_count": null,
   "metadata": {
    "collapsed": false
   },
   "outputs": [],
   "source": []
  },
  {
   "cell_type": "code",
   "execution_count": 53,
   "metadata": {
    "collapsed": false
   },
   "outputs": [
    {
     "data": {
      "text/plain": [
       "\"\\nxval = np.linspace(1,200,1000)\\nmaxcv = 50\\nmediator = 0.1\\ndef f1(xval,maxcv):\\n    rawout = xval - maxcv\\n    return mediator * rawout\\ndef f2(xval,maxcv):\\n    rawout = (xval/maxcv)-1\\n    return mediator *rawout\\ndef f3(xval,maxcv):\\n    rawout = ((xval-maxcv)/xval)\\n    return mediator *rawout\\n#plt.plot(xval,f1(xval,maxcv),label='Function 1')\\nplt.plot(xval,f2(xval,maxcv),label='Function 2')\\nplt.plot(xval,f3(xval,maxcv),label='Function 3')\\nplt.legend(loc=0)\\nplt.show()\\n\""
      ]
     },
     "execution_count": 53,
     "metadata": {},
     "output_type": "execute_result"
    }
   ],
   "source": [
    "#Test cases to determine the method of fatigue update\n",
    "'''\n",
    "xval = np.linspace(1,200,1000)\n",
    "maxcv = 50\n",
    "mediator = 0.1\n",
    "def f1(xval,maxcv):\n",
    "    rawout = xval - maxcv\n",
    "    return mediator * rawout\n",
    "def f2(xval,maxcv):\n",
    "    rawout = (xval/maxcv)-1\n",
    "    return mediator *rawout\n",
    "def f3(xval,maxcv):\n",
    "    rawout = ((xval-maxcv)/xval)\n",
    "    return mediator *rawout\n",
    "#plt.plot(xval,f1(xval,maxcv),label='Function 1')\n",
    "plt.plot(xval,f2(xval,maxcv),label='Function 2')\n",
    "plt.plot(xval,f3(xval,maxcv),label='Function 3')\n",
    "plt.legend(loc=0)\n",
    "plt.show()\n",
    "'''\n"
   ]
  },
  {
   "cell_type": "code",
   "execution_count": null,
   "metadata": {
    "collapsed": true
   },
   "outputs": [],
   "source": [
    "'''\n",
    "class Structure(Entity):\n",
    "    def __init__(self):# the subcalss initialisation is broken, replace\n",
    "        super(Structure, self).__init__()\n",
    "    def update(self,pot,timestep):\n",
    "        pass\n",
    "'''"
   ]
  },
  {
   "cell_type": "code",
   "execution_count": null,
   "metadata": {
    "collapsed": true
   },
   "outputs": [],
   "source": [
    "#objs[1].direct(np.array([0,15,15]),2)"
   ]
  },
  {
   "cell_type": "code",
   "execution_count": null,
   "metadata": {
    "collapsed": true
   },
   "outputs": [],
   "source": [
    "'''        self.objective = np.array([0,0,0])\n",
    "        self.deter = 02\n",
    "\n",
    "        \n",
    "        if self.deter !=0:\n",
    "            self.vel = (self.objective-self.pos)*self.deter#This causes a velocity towards the objective with a direction which varies with the position but a constant velocity determined by the determination\n",
    "            self.deter *=0.9\n",
    "        else:\n",
    "            pass\n",
    "'''"
   ]
  },
  {
   "cell_type": "code",
   "execution_count": null,
   "metadata": {
    "collapsed": false
   },
   "outputs": [],
   "source": [
    "'''\n",
    "Theorise that a redesign using a system of updateing only the areas of the potential which will be affected noticably, and have the update type be applying a calculated difference.\n",
    "'''\n",
    "\n",
    "'''\n",
    "suggested effciency move to not run the update code where the change would be minimal. calculate the range at which the gaussian topography becaomes effectively zero and just ignore those co-ordinates when updating. \n",
    "the magnitude of the change depends on the magnitude of the vecotr of differences in position. a constraint on that vector defines a sphere of non-sero affectation. \n",
    "\n",
    "the radius wil be defined by the object's gravitas and the range of the force. in the form of gravitas x exponential of 1/ twice the square of the range. this will be a positive value, which will be exponentially damped by the negative exponent of the magnitude of the difference in position. there will be a criteria where a given radius is sufficient to damp the function almost entirely to zero.\n",
    "\n",
    "calculated for this test as the force power of 1/2 which comes from both the range and the gravitas parameters being defined as 1 for the test. it is then 1/2 * exp(-r**2) where r is the variable describing the magnitude of the positional difference. for a threshold of 1x10^-4 the inequality is then when fp*exp(-r**2) < 1x10^-4 which will be calculate by had to prduce a formula for a general force power\n",
    "\n",
    "'''"
   ]
  },
  {
   "cell_type": "code",
   "execution_count": null,
   "metadata": {
    "collapsed": false
   },
   "outputs": [],
   "source": [
    "'''\n",
    "for i in range(len(objs)):\n",
    "    np.savetxt('C:\\\\Users\\\\theos\\\\Dropbox\\\\Documents\\\\PythonLibrary\\\\ProjectOrwell\\\\trajectory{}.csv'.format(i),objs[i].trajectory,delimiter=',',newline='\\n')\n",
    "'''"
   ]
  },
  {
   "cell_type": "code",
   "execution_count": null,
   "metadata": {
    "collapsed": false
   },
   "outputs": [],
   "source": [
    "'''implement looping for the potential projection so that when looped the objects can still feel theforces on the other wside of the loop'''\n"
   ]
  },
  {
   "cell_type": "code",
   "execution_count": null,
   "metadata": {
    "collapsed": false
   },
   "outputs": [],
   "source": [
    "'''Sensitivity scale test\n",
    "plt.plot(np.log(np.linspace(0.001,10,100))-np.log(1e-4),label='e-4 sensitivity')\n",
    "plt.plot(np.log(np.linspace(0.001,10,100))-np.log(1e-5),label='e-5 sensitivity')\n",
    "plt.plot(np.log(np.linspace(0.001,10,100))-np.log(1e-6),label='e-5 sensitivity')\n",
    "plt.xlabel('Force Power')\n",
    "plt.ylabel('Radius squared where change is non-zero')\n",
    "plt.legend()\n",
    "plt.show()\n",
    "'''"
   ]
  }
 ],
 "metadata": {
  "anaconda-cloud": {},
  "kernelspec": {
   "display_name": "Python [default]",
   "language": "python",
   "name": "python3"
  },
  "language_info": {
   "codemirror_mode": {
    "name": "ipython",
    "version": 3
   },
   "file_extension": ".py",
   "mimetype": "text/x-python",
   "name": "python",
   "nbconvert_exporter": "python",
   "pygments_lexer": "ipython3",
   "version": "3.5.2"
  }
 },
 "nbformat": 4,
 "nbformat_minor": 2
}
