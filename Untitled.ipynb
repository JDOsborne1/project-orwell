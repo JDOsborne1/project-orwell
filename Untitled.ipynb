{
 "cells": [
  {
   "cell_type": "code",
   "execution_count": 3,
   "metadata": {},
   "outputs": [
    {
     "data": {
      "text/html": [
       "<div id=\"glowscript\" class=\"glowscript\"></div>"
      ],
      "text/plain": [
       "<IPython.core.display.HTML object>"
      ]
     },
     "metadata": {},
     "output_type": "display_data"
    },
    {
     "data": {
      "application/javascript": [
       "window.__context = { glowscript_container: $(\"#glowscript\").removeAttr(\"id\")}"
      ],
      "text/plain": [
       "<IPython.core.display.Javascript object>"
      ]
     },
     "metadata": {},
     "output_type": "display_data"
    }
   ],
   "source": [
    "import vpython as vp\n",
    "ball = vp.sphere(pos=vp.vector(0,10,0))\n",
    "scene = vp.canvas(centre=vp.vector(0,10,0))\n"
   ]
  },
  {
   "cell_type": "code",
   "execution_count": 4,
   "metadata": {},
   "outputs": [
    {
     "name": "stdout",
     "output_type": "stream",
     "text": [
      "Help on class sphere in module vpython.vpython:\n",
      "\n",
      "class sphere(standardAttributes)\n",
      " |  Method resolution order:\n",
      " |      sphere\n",
      " |      standardAttributes\n",
      " |      baseObj\n",
      " |      builtins.object\n",
      " |  \n",
      " |  Methods defined here:\n",
      " |  \n",
      " |  __init__(self, **args)\n",
      " |      Initialize self.  See help(type(self)) for accurate signature.\n",
      " |  \n",
      " |  ----------------------------------------------------------------------\n",
      " |  Data descriptors defined here:\n",
      " |  \n",
      " |  axis\n",
      " |  \n",
      " |  radius\n",
      " |  \n",
      " |  size\n",
      " |  \n",
      " |  ----------------------------------------------------------------------\n",
      " |  Methods inherited from standardAttributes:\n",
      " |  \n",
      " |  __del__(self)\n",
      " |  \n",
      " |  clear_trail(self)\n",
      " |  \n",
      " |  clone(self, **args)\n",
      " |  \n",
      " |  rotate(self, angle=None, axis=None, origin=None)\n",
      " |  \n",
      " |  setup(self, args)\n",
      " |  \n",
      " |  ----------------------------------------------------------------------\n",
      " |  Data descriptors inherited from standardAttributes:\n",
      " |  \n",
      " |  blue\n",
      " |  \n",
      " |  canvas\n",
      " |  \n",
      " |  color\n",
      " |  \n",
      " |  emissive\n",
      " |  \n",
      " |  frame\n",
      " |  \n",
      " |  green\n",
      " |  \n",
      " |  height\n",
      " |  \n",
      " |  interval\n",
      " |  \n",
      " |  length\n",
      " |  \n",
      " |  make_trail\n",
      " |  \n",
      " |  opacity\n",
      " |  \n",
      " |  pickable\n",
      " |  \n",
      " |  pos\n",
      " |  \n",
      " |  pps\n",
      " |  \n",
      " |  red\n",
      " |  \n",
      " |  retain\n",
      " |  \n",
      " |  shininess\n",
      " |  \n",
      " |  texture\n",
      " |  \n",
      " |  trail_color\n",
      " |  \n",
      " |  trail_radius\n",
      " |  \n",
      " |  trail_type\n",
      " |  \n",
      " |  up\n",
      " |  \n",
      " |  visible\n",
      " |  \n",
      " |  width\n",
      " |  \n",
      " |  ----------------------------------------------------------------------\n",
      " |  Data and other attributes inherited from standardAttributes:\n",
      " |  \n",
      " |  attrLists = {'arrow': [['pos', 'color', 'trail_color'], ['axis', 'size...\n",
      " |  \n",
      " |  ----------------------------------------------------------------------\n",
      " |  Methods inherited from baseObj:\n",
      " |  \n",
      " |  addattr(self, attr)\n",
      " |  \n",
      " |  addmethod(self, method, data)\n",
      " |  \n",
      " |  appendcmd(self, cmd)\n",
      " |  \n",
      " |  delete(self)\n",
      " |  \n",
      " |  ----------------------------------------------------------------------\n",
      " |  Class methods inherited from baseObj:\n",
      " |  \n",
      " |  decrObjCnt() from builtins.type\n",
      " |  \n",
      " |  empty() from builtins.type\n",
      " |  \n",
      " |  handle_attach() from builtins.type\n",
      " |  \n",
      " |  incrObjCnt() from builtins.type\n",
      " |  \n",
      " |  initialize() from builtins.type\n",
      " |  \n",
      " |  package(objdata) from builtins.type\n",
      " |  \n",
      " |  trigger() from builtins.type\n",
      " |  \n",
      " |  ----------------------------------------------------------------------\n",
      " |  Data descriptors inherited from baseObj:\n",
      " |  \n",
      " |  __dict__\n",
      " |      dictionary for instance variables (if defined)\n",
      " |  \n",
      " |  __weakref__\n",
      " |      list of weak references to the object (if defined)\n",
      " |  \n",
      " |  ----------------------------------------------------------------------\n",
      " |  Data and other attributes inherited from baseObj:\n",
      " |  \n",
      " |  attach_arrows = []\n",
      " |  \n",
      " |  attach_trails = []\n",
      " |  \n",
      " |  attrs = set()\n",
      " |  \n",
      " |  glow = <vpython.vpython.GlowWidget object>\n",
      " |  \n",
      " |  objCnt = 20\n",
      " |  \n",
      " |  object_registry = {0: <vpython.vpython.canvas object>, 1: <vpython.vpy...\n",
      " |  \n",
      " |  sent = True\n",
      " |  \n",
      " |  updates = {'attrs': {}, 'cmds': [], 'methods': []}\n",
      "\n"
     ]
    }
   ],
   "source": [
    "help(vp.sphere)"
   ]
  },
  {
   "cell_type": "code",
   "execution_count": null,
   "metadata": {},
   "outputs": [],
   "source": []
  }
 ],
 "metadata": {
  "kernelspec": {
   "display_name": "Python 3",
   "language": "python",
   "name": "python3"
  },
  "language_info": {
   "codemirror_mode": {
    "name": "ipython",
    "version": 3
   },
   "file_extension": ".py",
   "mimetype": "text/x-python",
   "name": "python",
   "nbconvert_exporter": "python",
   "pygments_lexer": "ipython3",
   "version": "3.6.5"
  }
 },
 "nbformat": 4,
 "nbformat_minor": 2
}
